{
 "cells": [
  {
   "cell_type": "markdown",
   "id": "8f7b49c0-6399-4c4d-a301-9f3e2da8826b",
   "metadata": {},
   "source": [
    "## Forward Rate"
   ]
  },
  {
   "cell_type": "code",
   "execution_count": 2,
   "id": "ee6179cb-d0b1-4b03-8bca-596e17dbe7cd",
   "metadata": {},
   "outputs": [
    {
     "data": {
      "text/html": [
       "<div>\n",
       "<style scoped>\n",
       "    .dataframe tbody tr th:only-of-type {\n",
       "        vertical-align: middle;\n",
       "    }\n",
       "\n",
       "    .dataframe tbody tr th {\n",
       "        vertical-align: top;\n",
       "    }\n",
       "\n",
       "    .dataframe thead th {\n",
       "        text-align: right;\n",
       "    }\n",
       "</style>\n",
       "<table border=\"1\" class=\"dataframe\">\n",
       "  <thead>\n",
       "    <tr style=\"text-align: right;\">\n",
       "      <th></th>\n",
       "      <th>Maturity</th>\n",
       "      <th>Spot_Rate</th>\n",
       "    </tr>\n",
       "  </thead>\n",
       "  <tbody>\n",
       "    <tr>\n",
       "      <th>0</th>\n",
       "      <td>1</td>\n",
       "      <td>0.010</td>\n",
       "    </tr>\n",
       "    <tr>\n",
       "      <th>1</th>\n",
       "      <td>2</td>\n",
       "      <td>0.012</td>\n",
       "    </tr>\n",
       "    <tr>\n",
       "      <th>2</th>\n",
       "      <td>3</td>\n",
       "      <td>0.014</td>\n",
       "    </tr>\n",
       "    <tr>\n",
       "      <th>3</th>\n",
       "      <td>4</td>\n",
       "      <td>0.016</td>\n",
       "    </tr>\n",
       "    <tr>\n",
       "      <th>4</th>\n",
       "      <td>5</td>\n",
       "      <td>0.018</td>\n",
       "    </tr>\n",
       "    <tr>\n",
       "      <th>5</th>\n",
       "      <td>6</td>\n",
       "      <td>0.020</td>\n",
       "    </tr>\n",
       "    <tr>\n",
       "      <th>6</th>\n",
       "      <td>7</td>\n",
       "      <td>0.022</td>\n",
       "    </tr>\n",
       "    <tr>\n",
       "      <th>7</th>\n",
       "      <td>8</td>\n",
       "      <td>0.024</td>\n",
       "    </tr>\n",
       "    <tr>\n",
       "      <th>8</th>\n",
       "      <td>9</td>\n",
       "      <td>0.026</td>\n",
       "    </tr>\n",
       "    <tr>\n",
       "      <th>9</th>\n",
       "      <td>10</td>\n",
       "      <td>0.028</td>\n",
       "    </tr>\n",
       "  </tbody>\n",
       "</table>\n",
       "</div>"
      ],
      "text/plain": [
       "   Maturity  Spot_Rate\n",
       "0         1      0.010\n",
       "1         2      0.012\n",
       "2         3      0.014\n",
       "3         4      0.016\n",
       "4         5      0.018\n",
       "5         6      0.020\n",
       "6         7      0.022\n",
       "7         8      0.024\n",
       "8         9      0.026\n",
       "9        10      0.028"
      ]
     },
     "execution_count": 2,
     "metadata": {},
     "output_type": "execute_result"
    }
   ],
   "source": [
    "import pandas as pd\n",
    "data = pd.read_csv('lab-3-rate_path.csv')\n",
    "data.head(10)"
   ]
  },
  {
   "cell_type": "code",
   "execution_count": 3,
   "id": "10c833f4-c128-4769-92af-5fcfee4b4303",
   "metadata": {},
   "outputs": [],
   "source": [
    "data['Spot_Rate_Shift'] = data['Spot_Rate'].shift(1, fill_value=0)"
   ]
  },
  {
   "cell_type": "code",
   "execution_count": 4,
   "id": "af7cf08a-840a-4c2d-8c9a-e638bfe370b5",
   "metadata": {},
   "outputs": [
    {
     "data": {
      "text/html": [
       "<div>\n",
       "<style scoped>\n",
       "    .dataframe tbody tr th:only-of-type {\n",
       "        vertical-align: middle;\n",
       "    }\n",
       "\n",
       "    .dataframe tbody tr th {\n",
       "        vertical-align: top;\n",
       "    }\n",
       "\n",
       "    .dataframe thead th {\n",
       "        text-align: right;\n",
       "    }\n",
       "</style>\n",
       "<table border=\"1\" class=\"dataframe\">\n",
       "  <thead>\n",
       "    <tr style=\"text-align: right;\">\n",
       "      <th></th>\n",
       "      <th>Maturity</th>\n",
       "      <th>Spot_Rate</th>\n",
       "      <th>Spot_Rate_Shift</th>\n",
       "    </tr>\n",
       "  </thead>\n",
       "  <tbody>\n",
       "    <tr>\n",
       "      <th>0</th>\n",
       "      <td>1</td>\n",
       "      <td>0.010</td>\n",
       "      <td>0.000</td>\n",
       "    </tr>\n",
       "    <tr>\n",
       "      <th>1</th>\n",
       "      <td>2</td>\n",
       "      <td>0.012</td>\n",
       "      <td>0.010</td>\n",
       "    </tr>\n",
       "    <tr>\n",
       "      <th>2</th>\n",
       "      <td>3</td>\n",
       "      <td>0.014</td>\n",
       "      <td>0.012</td>\n",
       "    </tr>\n",
       "    <tr>\n",
       "      <th>3</th>\n",
       "      <td>4</td>\n",
       "      <td>0.016</td>\n",
       "      <td>0.014</td>\n",
       "    </tr>\n",
       "    <tr>\n",
       "      <th>4</th>\n",
       "      <td>5</td>\n",
       "      <td>0.018</td>\n",
       "      <td>0.016</td>\n",
       "    </tr>\n",
       "  </tbody>\n",
       "</table>\n",
       "</div>"
      ],
      "text/plain": [
       "   Maturity  Spot_Rate  Spot_Rate_Shift\n",
       "0         1      0.010            0.000\n",
       "1         2      0.012            0.010\n",
       "2         3      0.014            0.012\n",
       "3         4      0.016            0.014\n",
       "4         5      0.018            0.016"
      ]
     },
     "execution_count": 4,
     "metadata": {},
     "output_type": "execute_result"
    }
   ],
   "source": [
    "data.head()"
   ]
  },
  {
   "cell_type": "code",
   "execution_count": 12,
   "id": "5c666953-c5d5-4192-b1ab-314d7452b409",
   "metadata": {},
   "outputs": [],
   "source": [
    "data['Forward_Rate'] = (((1+data['Spot_Rate'])**data['Maturity'])/((1+data['Spot_Rate_Shift'])**(data['Maturity']-1)))-1"
   ]
  },
  {
   "cell_type": "code",
   "execution_count": 13,
   "id": "1503fd69-21ea-43b6-893e-4d369504a454",
   "metadata": {},
   "outputs": [
    {
     "data": {
      "text/html": [
       "<div>\n",
       "<style scoped>\n",
       "    .dataframe tbody tr th:only-of-type {\n",
       "        vertical-align: middle;\n",
       "    }\n",
       "\n",
       "    .dataframe tbody tr th {\n",
       "        vertical-align: top;\n",
       "    }\n",
       "\n",
       "    .dataframe thead th {\n",
       "        text-align: right;\n",
       "    }\n",
       "</style>\n",
       "<table border=\"1\" class=\"dataframe\">\n",
       "  <thead>\n",
       "    <tr style=\"text-align: right;\">\n",
       "      <th></th>\n",
       "      <th>Maturity</th>\n",
       "      <th>Spot_Rate</th>\n",
       "      <th>Spot_Rate_Shift</th>\n",
       "      <th>Forward_Rate</th>\n",
       "    </tr>\n",
       "  </thead>\n",
       "  <tbody>\n",
       "    <tr>\n",
       "      <th>0</th>\n",
       "      <td>1</td>\n",
       "      <td>0.010</td>\n",
       "      <td>0.000</td>\n",
       "      <td>0.010000</td>\n",
       "    </tr>\n",
       "    <tr>\n",
       "      <th>1</th>\n",
       "      <td>2</td>\n",
       "      <td>0.012</td>\n",
       "      <td>0.010</td>\n",
       "      <td>0.014004</td>\n",
       "    </tr>\n",
       "    <tr>\n",
       "      <th>2</th>\n",
       "      <td>3</td>\n",
       "      <td>0.014</td>\n",
       "      <td>0.012</td>\n",
       "      <td>0.018012</td>\n",
       "    </tr>\n",
       "    <tr>\n",
       "      <th>3</th>\n",
       "      <td>4</td>\n",
       "      <td>0.016</td>\n",
       "      <td>0.014</td>\n",
       "      <td>0.022024</td>\n",
       "    </tr>\n",
       "    <tr>\n",
       "      <th>4</th>\n",
       "      <td>5</td>\n",
       "      <td>0.018</td>\n",
       "      <td>0.016</td>\n",
       "      <td>0.026039</td>\n",
       "    </tr>\n",
       "  </tbody>\n",
       "</table>\n",
       "</div>"
      ],
      "text/plain": [
       "   Maturity  Spot_Rate  Spot_Rate_Shift  Forward_Rate\n",
       "0         1      0.010            0.000      0.010000\n",
       "1         2      0.012            0.010      0.014004\n",
       "2         3      0.014            0.012      0.018012\n",
       "3         4      0.016            0.014      0.022024\n",
       "4         5      0.018            0.016      0.026039"
      ]
     },
     "execution_count": 13,
     "metadata": {},
     "output_type": "execute_result"
    }
   ],
   "source": [
    "data.head()"
   ]
  },
  {
   "cell_type": "markdown",
   "id": "2d79a65a-2dd8-4f61-bb12-0a2e24808bc1",
   "metadata": {},
   "source": [
    "## Generating random numbers from particular distrbution"
   ]
  },
  {
   "cell_type": "code",
   "execution_count": 19,
   "id": "23cbdc18-6bfd-4287-bcb0-5870e0e2f691",
   "metadata": {},
   "outputs": [
    {
     "data": {
      "text/plain": [
       "array([[0.75396322],\n",
       "       [0.1859649 ],\n",
       "       [0.1278414 ]])"
      ]
     },
     "execution_count": 19,
     "metadata": {},
     "output_type": "execute_result"
    }
   ],
   "source": [
    "import numpy as np\n",
    "from scipy import stats\n",
    "np.random.rand(3,1) # uniform distn[0,1]"
   ]
  },
  {
   "cell_type": "code",
   "execution_count": 20,
   "id": "ebafa4b7-f91e-40da-8317-f7b739de070f",
   "metadata": {},
   "outputs": [],
   "source": [
    "nrm = np.random.randn(1000) ## normal distr"
   ]
  },
  {
   "cell_type": "code",
   "execution_count": 21,
   "id": "241cd0dc-f730-45cb-a449-0e410af01973",
   "metadata": {},
   "outputs": [
    {
     "data": {
      "image/png": "[encoded data removed]",
      "text/plain": [
       "<Figure size 432x288 with 1 Axes>"
      ]
     },
     "metadata": {
      "needs_background": "light"
     },
     "output_type": "display_data"
    }
   ],
   "source": [
    "import matplotlib.pyplot as plt\n",
    "plt.hist(nrm, 30, density=True)\n",
    "plt.show()"
   ]
  },
  {
   "cell_type": "code",
   "execution_count": 22,
   "id": "f9dc88ad-8612-462e-a272-068ab3970c68",
   "metadata": {},
   "outputs": [
    {
     "data": {
      "image/png": "[encoded data removed]",
      "text/plain": [
       "<Figure size 432x288 with 1 Axes>"
      ]
     },
     "metadata": {
      "needs_background": "light"
     },
     "output_type": "display_data"
    }
   ],
   "source": [
    "exp = np.random.exponential(3,1000) ## exponantial\n",
    "plt.hist(exp, 30, density=True)\n",
    "plt.show()"
   ]
  },
  {
   "cell_type": "code",
   "execution_count": 28,
   "id": "18473d38-d4d3-472f-bf63-e087feaa3b20",
   "metadata": {},
   "outputs": [
    {
     "data": {
      "text/plain": [
       "array([5.67186711e-03, 1.99679835e+00, 8.56957308e-01, 1.32578091e+00,\n",
       "       8.26924046e-01, 1.03912422e+00, 1.59602367e+00, 3.86470131e-01,\n",
       "       1.50866401e+00, 1.29212712e+00, 3.05498502e+00, 1.96263879e+00,\n",
       "       1.75504294e+00, 8.30011351e-01, 1.17365207e+00, 2.59071588e-01,\n",
       "       8.06814333e-01, 5.94233683e-01, 1.63373961e-01, 1.50758191e+00,\n",
       "       8.03562145e-01, 2.03640602e-01, 1.44834798e+00, 7.77297264e-01,\n",
       "       4.33064266e-03, 8.58329419e-01, 6.66023959e-01, 3.90297153e-02,\n",
       "       5.65925113e-01, 9.28780099e-02, 1.08291009e+00, 1.76726627e+00,\n",
       "       9.10404792e-01, 5.73272405e-01, 4.23402945e-01, 4.01562367e-01,\n",
       "       6.85222126e-01, 1.23204272e+00, 2.16132093e-02, 5.45315777e-01,\n",
       "       2.02269771e+00, 7.11608423e-01, 1.21309895e+00, 6.30148041e-01,\n",
       "       4.32257230e-01, 1.35291323e-01, 9.57889491e-01, 9.81193671e-01,\n",
       "       4.89879079e+00, 6.96196431e-01, 2.80921954e+00, 5.29087348e-02,\n",
       "       8.90672600e-01, 8.18475213e-01, 3.14759183e-01, 8.64664257e-01,\n",
       "       8.53919965e-01, 3.19411074e+00, 2.11858266e-02, 1.36173171e+00,\n",
       "       1.95643569e-01, 6.27505650e-01, 2.76751546e-01, 9.60293964e-02,\n",
       "       3.69541308e-01, 2.30826505e+00, 3.77743221e-01, 1.44415215e+00,\n",
       "       2.60952389e+00, 3.64238584e-01, 1.44851024e+00, 2.34979152e-01,\n",
       "       1.03016323e+00, 5.86868033e-01, 7.44505194e-01, 3.69369850e-01,\n",
       "       1.52217374e+00, 4.81062736e-01, 1.10247839e+00, 8.42272977e-01,\n",
       "       1.04730008e+00, 9.16097547e-01, 9.75062397e-01, 2.40973354e+00,\n",
       "       5.33960710e-01, 7.89060508e-02, 9.39896896e-01, 1.16937025e+00,\n",
       "       2.92626879e-01, 4.05030102e-01, 1.53311612e+00, 6.55269113e-01,\n",
       "       1.14145586e+00, 2.14750075e+00, 3.92636402e-02, 1.47920284e-01,\n",
       "       3.22894224e-01, 1.35815401e+00, 1.50015950e+00, 8.68461501e-01,\n",
       "       1.49526677e+00, 8.26671419e-02, 3.59077198e-01, 4.87622590e-01,\n",
       "       4.43312436e-01, 4.58767058e-01, 2.05566799e+00, 2.89631259e+00,\n",
       "       6.49082308e-01, 1.14541752e+00, 5.11811963e-02, 1.20317341e+00,\n",
       "       3.88918170e+00, 5.52457515e-01, 6.08529225e-02, 7.79998059e-01,\n",
       "       1.73069749e-01, 2.94045888e+00, 1.93008233e-02, 7.63975301e-01,\n",
       "       6.40339401e-02, 3.20045634e-01, 1.20447665e+00, 8.04732217e-01,\n",
       "       1.08217740e+00, 3.20093500e+00, 6.46973752e-01, 4.55994497e-01,\n",
       "       3.90459987e-01, 4.34044451e-01, 2.76567133e-02, 3.18390285e-03,\n",
       "       3.97542744e-01, 3.20663059e-01, 4.44608815e-01, 6.59709499e-01,\n",
       "       1.51407983e-01, 1.70458998e+00, 1.43005631e-01, 1.11289244e+00,\n",
       "       6.50285677e-01, 7.30050211e-01, 2.22483340e-01, 7.03994132e-01,\n",
       "       2.62281380e+00, 6.72625569e-01, 5.84429458e-01, 8.48093654e-01,\n",
       "       1.93399798e-01, 8.73620958e-02, 1.79280542e+00, 2.39523944e-01,\n",
       "       6.07739827e-01, 4.68892439e-01, 1.66768593e+00, 9.79130109e-01,\n",
       "       8.89828587e-01, 1.08168136e+00, 5.05809048e-01, 3.13170191e-01,\n",
       "       6.49222346e-01, 9.85194035e-01, 1.43028078e+00, 5.54843160e-01,\n",
       "       6.06678202e-03, 3.97867561e+00, 3.13184980e-01, 3.89328959e+00,\n",
       "       2.41630714e-01, 2.71952519e-01, 1.02183925e+00, 2.46772512e+00,\n",
       "       6.49963774e-01, 3.09425983e+00, 4.28132707e-01, 1.74429224e-01,\n",
       "       3.95945943e-01, 2.19928120e+00, 5.58244751e-01, 2.07831400e+00,\n",
       "       2.97756358e-01, 1.14751451e-01, 1.53435407e-01, 1.36950046e+00,\n",
       "       3.23344731e-01, 1.02098094e-01, 4.18455414e-01, 2.40417551e-01,\n",
       "       2.85938928e-01, 2.05901474e+00, 6.97629760e+00, 1.31190463e+00,\n",
       "       6.14381363e-01, 1.36782991e-03, 7.47241678e+00, 6.57123003e-01,\n",
       "       1.17615756e+00, 3.22685534e+00, 3.51623251e-01, 1.41451431e+00,\n",
       "       1.71168692e+00, 3.27161137e-01, 1.89947328e+00, 3.61704188e-01,\n",
       "       1.22759633e-01, 4.53078713e-01, 1.84335283e+00, 3.26389408e-02,\n",
       "       7.22639194e-01, 3.42075526e-01, 2.20916447e-01, 4.64480074e-01,\n",
       "       3.24657827e-01, 3.24435472e+00, 3.40335446e-01, 1.72466033e-01,\n",
       "       1.21906271e-01, 4.69547082e-02, 1.15168548e+00, 1.29052661e+00,\n",
       "       4.41793853e+00, 1.27534712e+00, 5.12995322e-01, 1.00157154e+00,\n",
       "       3.56924564e-01, 4.25134849e-01, 2.51600406e-01, 1.32457340e-01,\n",
       "       1.36061024e-01, 3.45681330e+00, 3.11384578e-01, 2.58441473e+00,\n",
       "       2.23367286e+00, 1.99656303e+00, 7.11364148e-02, 6.16305421e-02,\n",
       "       5.47727867e-01, 1.64360033e-01, 1.87590577e-01, 4.52648661e+00,\n",
       "       1.62341623e+00, 1.52160074e+00, 3.23329947e-01, 6.46122845e-01,\n",
       "       8.48955278e-01, 7.42339625e-01, 3.36290069e-01, 9.28025336e-01,\n",
       "       3.83984973e-01, 5.37117050e-01, 9.61478252e-02, 1.87643098e-01,\n",
       "       1.05842504e+00, 1.09749479e+00, 3.17863251e-01, 2.29416368e+00,\n",
       "       6.63580301e-01, 1.39837323e+00, 1.11286797e-02, 7.93176658e-01,\n",
       "       2.93745388e+00, 4.96649754e-01, 1.14042613e+00, 1.80345128e-02,\n",
       "       1.79736910e+00, 7.48554704e-02, 3.84114889e-01, 4.55981513e-01,\n",
       "       1.27364890e+00, 3.61770615e+00, 6.85968683e-01, 2.62902081e-01,\n",
       "       2.60796164e-02, 1.12489572e+00, 4.73080388e+00, 1.57765310e+00,\n",
       "       1.64093516e+00, 3.73419204e-01, 9.19036804e-01, 1.56197971e-01,\n",
       "       2.45493298e+00, 2.09969204e-01, 8.53124347e-02, 4.20125733e-01,\n",
       "       2.49076831e-01, 1.44527420e-01, 5.15642977e-01, 4.71656346e-01,\n",
       "       6.18899105e-01, 6.07684903e-01, 1.55157769e+00, 3.50523357e-01,\n",
       "       2.06506786e+00, 1.44689657e+00, 4.94557301e-01, 1.08789033e+00,\n",
       "       9.23586731e-01, 3.55921381e+00, 1.51400778e+00, 5.51011499e-04,\n",
       "       8.41008717e-01, 1.52336008e+00, 7.10735924e-01, 1.07126966e+00,\n",
       "       6.79040759e-01, 5.27040096e-01, 6.50435447e-04, 1.52766315e+00,\n",
       "       1.60508965e+00, 2.78138801e-01, 1.09708045e+00, 5.49668023e-01,\n",
       "       4.37837777e-01, 2.29152284e-01, 1.03507265e+00, 5.09719898e-01,\n",
       "       1.16878175e+00, 4.25698862e-01, 1.27666154e+00, 5.93359995e-01,\n",
       "       8.49186508e-01, 6.99872793e-01, 8.12859186e-01, 1.26583819e+00,\n",
       "       5.43420388e-01, 1.91013804e-01, 2.58185129e-01, 4.41137950e-01,\n",
       "       2.32118692e-01, 4.76751669e-01, 7.58848498e-01, 1.56948782e-01,\n",
       "       5.39967585e-01, 3.15300664e-01, 1.68349455e+00, 7.77518534e-01,\n",
       "       7.22826827e-02, 1.43540153e-01, 2.58814609e+00, 4.07452310e-01,\n",
       "       3.27636862e+00, 8.35867530e-01, 7.09793625e-01, 1.74944217e+00,\n",
       "       7.37570142e-01, 4.53849062e+00, 2.63739924e+00, 6.08773821e-01,\n",
       "       8.38866725e-01, 1.09823856e+00, 5.19159556e-01, 5.67098919e-01,\n",
       "       1.81340945e+00, 1.08086684e+00, 5.30208165e-01, 1.08725422e+00,\n",
       "       2.97635805e-01, 3.88534952e-01, 1.51894987e+00, 3.47203208e+00,\n",
       "       1.10198720e+00, 4.73558862e-01, 1.83735886e+00, 2.70716297e+00,\n",
       "       1.60187395e+00, 9.64950133e-01, 6.20985407e-01, 1.83766991e+00,\n",
       "       3.29256840e-01, 1.88180158e+00, 9.38894939e-01, 4.79750950e+00,\n",
       "       3.99669493e-01, 3.29427429e-01, 5.32767862e-02, 1.28969428e+00,\n",
       "       8.70325575e-01, 9.57469816e-02, 1.57990465e+00, 4.37691025e-01,\n",
       "       2.74893758e-01, 8.07299895e-01, 8.35153719e-01, 8.04619563e-01,\n",
       "       7.92668137e-01, 1.85395257e-02, 1.19207806e+00, 1.19983286e+00,\n",
       "       7.98879247e-01, 1.68987003e+00, 1.26564327e+00, 4.94227654e-01,\n",
       "       2.08001395e-01, 1.51926508e-01, 1.92658456e-01, 5.07689363e-02,\n",
       "       9.63302425e-01, 9.35492809e-02, 9.43001659e-01, 1.49937155e+00,\n",
       "       1.43429185e-01, 5.37663894e-01, 3.71226121e-01, 1.41037063e+00,\n",
       "       4.26825154e-01, 1.48073757e+00, 8.44814195e-01, 2.66516252e-02,\n",
       "       1.11485276e+00, 1.26055632e+00, 1.68880093e+00, 1.07330956e+00,\n",
       "       1.29484616e-01, 2.13495807e-01, 1.17213234e+00, 6.12106208e-01,\n",
       "       2.38175392e-01, 6.15129501e-01, 3.15941696e-02, 1.22746643e+00,\n",
       "       3.96320914e-01, 6.27813043e-01, 2.34301809e+00, 6.40730737e-02,\n",
       "       3.00106411e+00, 8.63151455e-02, 6.15766000e-01, 4.82685379e-01,\n",
       "       2.75677332e-01, 1.89776325e-01, 1.53521570e-01, 5.89111630e-01,\n",
       "       1.81661272e+00, 6.60783925e-01, 2.64597607e+00, 3.52317963e+00,\n",
       "       4.18962424e-01, 3.23080783e-01, 9.74966170e-01, 7.41088605e-01,\n",
       "       2.15095452e+00, 1.96375809e+00, 9.07348605e-01, 1.34822778e+00,\n",
       "       1.05546090e+00, 3.81394576e-03, 2.48285006e-01, 1.81892315e+00,\n",
       "       1.06929931e+00, 2.39011108e-01, 3.27116260e-01, 1.48895063e-01,\n",
       "       3.81112838e-02, 2.42106194e-01, 8.05851229e-02, 1.13235529e+00,\n",
       "       4.44699086e+00, 6.38508211e-01, 7.16831384e-02, 1.94829936e+00,\n",
       "       2.14214262e-01, 5.37304944e-01, 3.58719161e-01, 7.35279004e-01,\n",
       "       9.59860312e-01, 1.00258258e+00, 1.82430742e+00, 1.73088445e-01,\n",
       "       4.61297377e-01, 7.10348713e-03, 1.24100541e-01, 6.17344960e-01,\n",
       "       1.04126447e+00, 5.42816368e-01, 2.22890762e+00, 2.70366291e+00,\n",
       "       2.66801387e+00, 1.41640098e+00, 9.74505637e-02, 1.54109364e+00,\n",
       "       7.75802425e-01, 1.77884383e+00, 9.40788065e-01, 4.05816567e-01,\n",
       "       1.74986202e+00, 6.48278748e-01, 7.04921871e-01, 9.53507091e-01,\n",
       "       8.37426004e-01, 1.92747229e-01, 3.66516809e-01, 5.72606021e-02,\n",
       "       4.24101428e-03, 7.47799107e+00, 6.91061670e-01, 5.80458688e-01,\n",
       "       3.12718009e-01, 7.96720286e-01, 1.10835215e-01, 1.43808665e+00,\n",
       "       4.96495267e+00, 8.10121398e-01, 1.35342831e+00, 5.05075421e-01,\n",
       "       2.99343057e+00, 2.63597944e-01, 1.83761655e+00, 2.28316449e-01,\n",
       "       1.02466629e+00, 2.69503017e-01, 1.57653028e+00, 1.26541907e+00,\n",
       "       1.66932541e+00, 1.89999671e-01, 5.92602207e-02, 1.40438651e+00,\n",
       "       2.77225482e+00, 4.05142511e-01, 3.80928506e-01, 7.41281049e-01,\n",
       "       1.61771986e+00, 3.12936140e-01, 3.15680380e-01, 2.07541336e+00,\n",
       "       4.22824121e-01, 1.33977818e+00, 1.72871445e+00, 5.26488615e-01,\n",
       "       9.13837316e-01, 7.13890493e-01, 1.07535381e+00, 3.46382307e+00,\n",
       "       1.45536820e+00, 7.15648421e-01, 8.44126939e-01, 7.63837327e-01,\n",
       "       1.17482210e+00, 3.16602093e-01, 1.57934150e+00, 5.45680338e-01,\n",
       "       5.50794914e-01, 2.34782012e-02, 1.09511268e-01, 1.18478946e+00,\n",
       "       1.25999731e+00, 5.63228218e-01, 4.14147672e-02, 6.30272102e-01,\n",
       "       8.72719451e-01, 8.23701877e-01, 1.87447882e+00, 2.78608793e+00,\n",
       "       3.37792608e+00, 2.17853596e+00, 1.20981970e+00, 5.11249817e-01,\n",
       "       5.35994977e-01, 1.50857368e-01, 2.00878020e-01, 1.84585396e+00,\n",
       "       3.58175925e-01, 6.84452213e-01, 8.64550797e-01, 2.67768341e-01,\n",
       "       1.39703908e-01, 3.48514216e-01, 2.72273852e-01, 1.36982938e-01,\n",
       "       5.11841579e-01, 6.49747167e-01, 2.41698973e+00, 2.94816230e-01,\n",
       "       1.93817441e+00, 6.99234334e-01, 4.25402976e-01, 3.98748021e+00,\n",
       "       1.19211504e+00, 8.52384540e-02, 3.07387048e+00, 3.28329953e-01,\n",
       "       5.42115229e-02, 1.87839616e-01, 4.68261496e-02, 8.00219504e-01,\n",
       "       7.83985178e-01, 1.40100029e+00, 1.75431552e+00, 4.52621741e+00,\n",
       "       2.95944998e-01, 1.02614919e+00, 1.03432166e+01, 2.91740337e+00,\n",
       "       6.05251958e-01, 1.94809581e+00, 2.13691704e+00, 1.19993868e+00,\n",
       "       1.36418471e+00, 1.63602881e+00, 4.01432488e-01, 2.53631074e+00,\n",
       "       3.28490405e-01, 5.85320968e+00, 5.52043311e-01, 2.82678554e-01,\n",
       "       9.21753169e-01, 8.14266961e-01, 1.14196485e+00, 1.23334515e-02,\n",
       "       9.57582406e-01, 4.24439585e-01, 6.98177980e-01, 2.19586010e-01,\n",
       "       9.39437496e-01, 7.89933333e-01, 1.70552229e+00, 5.92372604e-01,\n",
       "       3.31966533e-01, 1.59830214e-01, 4.09882040e-01, 1.02533279e+00,\n",
       "       2.44732281e+00, 7.49635656e-01, 7.76727400e-01, 3.44376213e+00,\n",
       "       6.71417635e-01, 2.20692563e+00, 8.44357541e-02, 1.64856493e-01,\n",
       "       3.71011376e-01, 1.59306788e+00, 6.29858816e-01, 3.01667169e-01,\n",
       "       1.68996373e-01, 1.43203580e+00, 1.52657370e+00, 2.75451803e-01,\n",
       "       6.83757399e-01, 1.92129505e+00, 1.52737687e+00, 4.97159100e-01,\n",
       "       3.45207913e-01, 1.23075799e-01, 1.74655057e+00, 1.74444218e+00,\n",
       "       3.40931943e+00, 1.13334703e+00, 5.87873233e-01, 2.14264568e-01,\n",
       "       2.42031752e+00, 9.99021579e-01, 6.89644224e-02, 5.75848217e-01,\n",
       "       9.92588355e-01, 3.00763427e-01, 4.62716383e-01, 1.20527351e+00,\n",
       "       1.97830443e-01, 1.59101931e+00, 9.06388874e-01, 4.62802850e-01,\n",
       "       1.90536931e+00, 2.98712384e-01, 1.19414102e+00, 8.73511749e-01,\n",
       "       8.14375554e-01, 4.90409824e-01, 2.09977963e-01, 1.60134860e-01,\n",
       "       1.58100309e+00, 2.67196225e+00, 9.52080119e-01, 3.79868701e-01,\n",
       "       3.45913173e+00, 1.88743103e+00, 3.56101229e+00, 8.09130326e-01,\n",
       "       1.05855161e+00, 1.24140992e+00, 6.67323761e-01, 9.06812099e-01,\n",
       "       8.55197864e-01, 9.71799921e-01, 3.34411196e-01, 2.32220802e-01,\n",
       "       2.18308782e-02, 2.01409207e-01, 7.07139260e-01, 3.56001073e-02,\n",
       "       8.71070966e-01, 2.84822204e-01, 2.61119053e-01, 2.16027666e-01,\n",
       "       2.06698757e+00, 1.71108461e-01, 1.44171025e-01, 1.85994699e-01,\n",
       "       2.61620437e+00, 7.20348249e-01, 1.31711596e+00, 1.68603845e-01,\n",
       "       8.24969825e-01, 7.56945481e-01, 2.10359521e+00, 8.92362026e-01,\n",
       "       2.52686879e-01, 1.36622990e+00, 1.94549431e-01, 5.29589333e-01,\n",
       "       1.56579063e-01, 1.02587888e+00, 4.47730803e+00, 6.16979369e-01,\n",
       "       1.30335938e+00, 3.94988424e-02, 7.64534272e-01, 8.80461700e-01,\n",
       "       1.39756436e+00, 7.89266310e-02, 1.48143967e-01, 2.88088917e-01,\n",
       "       4.51502808e-01, 1.09155685e+00, 3.84651601e-01, 6.69171721e-01,\n",
       "       6.23820263e-01, 1.48258866e-01, 1.03143291e-01, 5.72481594e-01,\n",
       "       7.93047774e-01, 1.79295524e+00, 1.06073295e-01, 7.25097388e-01,\n",
       "       2.50998469e+00, 4.76545955e-02, 3.19796373e-01, 8.53069114e-01,\n",
       "       1.26654219e+00, 7.12992374e-01, 5.79396615e-01, 1.96430271e+00,\n",
       "       8.88782958e-01, 4.77545056e+00, 2.05091859e-01, 8.60743261e-01,\n",
       "       4.74058845e-01, 6.71125801e-01, 1.04770132e-01, 2.80556750e-01,\n",
       "       5.59348933e-01, 2.39885485e-01, 2.03575594e+00, 8.76119142e-02,\n",
       "       1.44249719e-02, 6.03435349e-02, 1.93023203e+00, 1.60549209e+00,\n",
       "       5.36395053e+00, 1.74193955e-01, 6.77418082e-02, 5.41425232e-01,\n",
       "       3.10327454e+00, 1.09349001e-01, 1.60056721e+00, 1.30710938e+00,\n",
       "       8.10251377e-01, 1.11607730e-01, 5.03264974e-01, 1.09736310e+00,\n",
       "       6.57723623e-03, 2.14788226e+00, 5.33786884e-01, 4.15561841e-01,\n",
       "       2.24308502e-01, 1.86315334e+00, 1.83911113e+00, 3.38364658e-03,\n",
       "       2.70798404e+00, 1.81072252e+00, 7.48467517e-01, 1.12617223e+00,\n",
       "       9.61346006e-01, 7.33683212e-01, 1.39152759e+00, 3.05416244e+00,\n",
       "       2.27268575e+00, 8.03529374e-01, 7.46808514e-01, 2.19347435e+00,\n",
       "       1.08309665e+00, 2.45619669e+00, 2.04531448e+00, 1.29336998e+00,\n",
       "       5.93300337e-01, 1.03028164e+00, 2.36246788e+00, 1.08009040e-01,\n",
       "       4.24561893e-01, 1.50546598e-02, 2.30802687e+00, 2.72354330e+00,\n",
       "       1.51697879e-01, 7.50869410e-01, 3.51768029e-01, 1.33603271e-01,\n",
       "       7.18713387e-02, 3.04028638e+00, 9.50483855e-01, 1.39463820e-01,\n",
       "       1.23379674e+00, 1.16677622e-02, 1.04206291e+00, 2.73859128e+00,\n",
       "       7.73269898e-01, 1.72288360e-01, 6.56257042e-01, 4.52871397e+00,\n",
       "       1.24026934e+00, 1.73058258e+00, 4.91787553e-01, 1.19368726e+00,\n",
       "       1.66531932e-01, 1.46784862e-01, 4.16323683e+00, 3.89546929e-02,\n",
       "       1.19757503e+00, 1.10830111e+00, 2.14702345e+00, 8.19858969e-01,\n",
       "       1.01580382e+00, 6.69607826e-01, 3.71374693e-02, 3.66858336e-01,\n",
       "       1.73967844e+00, 9.78786063e-01, 6.93971919e-02, 4.10871719e-01,\n",
       "       4.28917610e+00, 6.05993540e-02, 1.46631831e+00, 2.80288424e+00,\n",
       "       1.26769203e-01, 3.97228249e-01, 1.07713243e+00, 2.06856002e-01,\n",
       "       2.83313709e-01, 5.11394149e-01, 1.38211559e+00, 1.41862331e+00,\n",
       "       4.51140517e-01, 1.63379213e+00, 1.54168058e+00, 1.01085526e+00,\n",
       "       1.90343909e+00, 6.87427333e-01, 3.48249796e-01, 9.95288252e-01,\n",
       "       6.99678904e-01, 2.02612395e+00, 1.81318053e-01, 2.83934135e+00,\n",
       "       1.24238068e+00, 2.45111745e+00, 5.78624793e-01, 9.92387109e-01,\n",
       "       9.40219698e-02, 6.79738465e-01, 7.38991718e-01, 1.02441941e+00,\n",
       "       1.31668735e-01, 3.93037358e-01, 1.59187299e-02, 4.00982999e-01,\n",
       "       2.05542994e+00, 1.39604119e+00, 3.04841342e+00, 3.82011401e-01,\n",
       "       4.52833858e-01, 1.01050671e-01, 6.47456731e-01, 1.28501445e+00,\n",
       "       5.54890164e-02, 1.16440036e+00, 1.28468188e+00, 1.72384030e+00,\n",
       "       1.16237986e-01, 1.34860004e+00, 5.28121738e-01, 1.47597235e+00,\n",
       "       1.08592054e-01, 1.21061190e+00, 2.64250200e+00, 2.52078179e+00,\n",
       "       7.15126051e-01, 4.84086626e+00, 3.13995995e+00, 1.63633722e-02,\n",
       "       4.46901729e-01, 4.23064066e-01, 1.16969490e+00, 5.05633436e-01,\n",
       "       1.15081904e+00, 5.93710096e-01, 5.33514808e-01, 5.56563829e-02,\n",
       "       1.82137816e+00, 3.64968698e+00, 1.09801379e+00, 2.47845548e+00,\n",
       "       6.28583141e-02, 2.09277815e+00, 8.43255345e-02, 2.25710290e+00,\n",
       "       3.09488681e-01, 4.47974537e-01, 8.86663671e-02, 4.40851066e-01,\n",
       "       5.65206348e-01, 1.04033019e+00, 1.30253301e+00, 2.80706120e+00,\n",
       "       5.04047115e-01, 1.57085618e-01, 4.43891825e-01, 1.37201154e+00,\n",
       "       8.31536659e-02, 4.93234180e-01, 2.23207599e+00, 2.79611462e-01,\n",
       "       1.10726835e+00, 2.10125921e+00, 1.82644388e+00, 1.19525987e+00,\n",
       "       2.88935101e-02, 1.02469939e+00, 2.46664951e-01, 1.20009143e+00,\n",
       "       5.33692676e-01, 3.48983957e-01, 3.53689001e-01, 4.15292379e-01,\n",
       "       8.59754961e-01, 2.41504870e+00, 4.34525157e-02, 6.38118320e-02,\n",
       "       1.16682796e-01, 1.95938228e+00, 3.30098119e+00, 1.63344940e-01,\n",
       "       5.45104694e-01, 1.06583793e+00, 7.18838840e-01, 1.47631289e-01,\n",
       "       1.10758824e+00, 3.34990179e+00, 9.97690755e-01, 8.90215338e-02,\n",
       "       2.26226636e+00, 2.42012549e+00, 7.05272383e-01, 6.00138477e-01,\n",
       "       1.65008042e+00, 1.42157894e+00, 8.57925350e-01, 9.85615357e-01,\n",
       "       4.40008753e-01, 8.01251844e-01, 8.77576659e-01, 1.26525980e-01,\n",
       "       2.57009671e+00, 1.92855262e+00, 4.19429382e-01, 1.40253573e-01,\n",
       "       8.89327225e-01, 6.42114529e-01, 5.30597186e+00, 2.45747552e-01,\n",
       "       1.58294385e+00, 1.33406371e+00, 2.90081151e-01, 3.13260587e-02,\n",
       "       8.23799050e-01, 1.57059612e+00, 1.54014461e+00, 1.98812539e-01,\n",
       "       5.47648833e-02, 9.64734072e-01, 2.83352279e+00, 5.70694181e-02,\n",
       "       5.28069200e-01, 8.23842611e-01, 2.36959545e-01, 1.93644518e+00,\n",
       "       3.54095374e-01, 6.03393547e+00, 3.99483858e-01, 1.53653471e+00,\n",
       "       1.38501555e+00, 1.27530412e+00, 7.42442446e-01, 7.55903452e-01])"
      ]
     },
     "execution_count": 28,
     "metadata": {},
     "output_type": "execute_result"
    }
   ],
   "source": [
    "rng = np.random.default_rng(34) #34 is seed value for random number generator(rng)\n",
    "rng.exponential(1,1000) #lambda=1 , #=1000"
   ]
  },
  {
   "cell_type": "code",
   "execution_count": 29,
   "id": "ec99f5b2-2dfd-4aef-b449-d5765279e015",
   "metadata": {},
   "outputs": [],
   "source": [
    "u1 = rng.random(size=1000)"
   ]
  },
  {
   "cell_type": "code",
   "execution_count": 34,
   "id": "31b597e7-1d51-4e70-b1e8-70360127ef33",
   "metadata": {},
   "outputs": [],
   "source": [
    "res = stats.norm.ppf(u1, loc=3, scale = 1) # inverse cdf of normal == ppf"
   ]
  },
  {
   "cell_type": "code",
   "execution_count": 35,
   "id": "70ffa728-27ea-4a93-b9ca-e6183d132d4e",
   "metadata": {},
   "outputs": [
    {
     "data": {
      "text/plain": [
       "[]"
      ]
     },
     "execution_count": 35,
     "metadata": {},
     "output_type": "execute_result"
    },
    {
     "data": {
      "image/png": "[encoded data removed]",
      "text/plain": [
       "<Figure size 432x288 with 1 Axes>"
      ]
     },
     "metadata": {
      "needs_background": "light"
     },
     "output_type": "display_data"
    }
   ],
   "source": [
    "plt.hist(res, 30, density=True)\n",
    "plt.plot()"
   ]
  },
  {
   "cell_type": "code",
   "execution_count": 36,
   "id": "bb05dc27-4d48-49d1-9d86-22e22f3bbb33",
   "metadata": {},
   "outputs": [],
   "source": [
    "res1 = stats.t.ppf(u1, df=10, loc=2, scale=5)"
   ]
  },
  {
   "cell_type": "code",
   "execution_count": 37,
   "id": "7d0ea59c-1b26-4b29-bb46-9045142f79c6",
   "metadata": {},
   "outputs": [
    {
     "data": {
      "text/plain": [
       "[]"
      ]
     },
     "execution_count": 37,
     "metadata": {},
     "output_type": "execute_result"
    },
    {
     "data": {
      "image/png": "[encoded data removed]",
      "text/plain": [
       "<Figure size 432x288 with 1 Axes>"
      ]
     },
     "metadata": {
      "needs_background": "light"
     },
     "output_type": "display_data"
    }
   ],
   "source": [
    "plt.hist(res1, 30, density=True)\n",
    "plt.plot()"
   ]
  },
  {
   "cell_type": "code",
   "execution_count": 38,
   "id": "94cc707a-b85f-4de0-b815-1de6fb2d038b",
   "metadata": {},
   "outputs": [],
   "source": [
    "res2 = stats.poisson.ppf(u1, 2, loc=2)"
   ]
  },
  {
   "cell_type": "code",
   "execution_count": 39,
   "id": "149cb0b7-5a83-4eb5-9615-d4bf5991757a",
   "metadata": {},
   "outputs": [
    {
     "data": {
      "text/plain": [
       "[]"
      ]
     },
     "execution_count": 39,
     "metadata": {},
     "output_type": "execute_result"
    },
    {
     "data": {
      "image/png": "[encoded data removed]",
      "text/plain": [
       "<Figure size 432x288 with 1 Axes>"
      ]
     },
     "metadata": {
      "needs_background": "light"
     },
     "output_type": "display_data"
    }
   ],
   "source": [
    "plt.hist(res2, 30, density=True)\n",
    "plt.plot()"
   ]
  },
  {
   "cell_type": "code",
   "execution_count": null,
   "id": "ebc9d090-1808-4175-ab01-ad452f211e75",
   "metadata": {},
   "outputs": [],
   "source": []
  }
 ],
 "metadata": {
  "kernelspec": {
   "display_name": "Python 3 (ipykernel)",
   "language": "python",
   "name": "python3"
  },
  "language_info": {
   "codemirror_mode": {
    "name": "ipython",
    "version": 3
   },
   "file_extension": ".py",
   "mimetype": "text/x-python",
   "name": "python",
   "nbconvert_exporter": "python",
   "pygments_lexer": "ipython3",
   "version": "3.10.0"
  }
 },
 "nbformat": 4,
 "nbformat_minor": 5
}
