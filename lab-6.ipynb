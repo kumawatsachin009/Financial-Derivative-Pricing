{
 "cells": [
  {
   "cell_type": "code",
   "execution_count": 21,
   "id": "fef26604-1123-4794-90af-0d2c75b10635",
   "metadata": {},
   "outputs": [],
   "source": [
    "import math \n",
    "from pandas_datareader import data, wb\n",
    "import matplotlib.pyplot as plt\n",
    "import pandas_datareader as pdr\n",
    "import numpy as np\n",
    "\n",
    "def nCr(n, r):\n",
    "    f = math.factorial\n",
    "    return (f(n)/f(r))/f(n-r)"
   ]
  },
  {
   "cell_type": "code",
   "execution_count": 22,
   "id": "799e858a-82b9-4052-86b5-c860fe4a3efc",
   "metadata": {},
   "outputs": [],
   "source": [
    "def fetchData(ticker = \"GME\"):\n",
    "    data = pdr.get_data_yahoo(ticker)\n",
    "    # print(data)\n",
    "    data_AdjClose = data[\"Adj Close\"]\n",
    "    data_diff = data_AdjClose.diff()\n",
    "    data_ret = data_diff/data_AdjClose\n",
    "    ret_pos =[]\n",
    "    ret_neg =[]\n",
    "    for dt in data_ret:\n",
    "        if dt >0:\n",
    "            ret_pos.append(dt)\n",
    "        elif dt < 0:\n",
    "            ret_neg.append(dt)\n",
    "        else:\n",
    "            pass\n",
    "    u = np.average(ret_pos)\n",
    "    d = np.average(ret_neg)\n",
    "    data_close = data[\"Close\"]\n",
    "    s0 = data_close[-1]\n",
    "    sigma = np.std(data_ret)\n",
    "    return u, d, s0, sigma"
   ]
  },
  {
   "cell_type": "code",
   "execution_count": 23,
   "id": "88e8fa5d-60ee-4cf5-ba8b-306ff8dc0124",
   "metadata": {},
   "outputs": [
    {
     "data": {
      "text/plain": [
       "(0.03961807180162902,\n",
       " -0.04030179316678688,\n",
       " 135.9499969482422,\n",
       " 0.08464240330666838)"
      ]
     },
     "execution_count": 23,
     "metadata": {},
     "output_type": "execute_result"
    }
   ],
   "source": [
    "fetchData()"
   ]
  },
  {
   "cell_type": "code",
   "execution_count": 24,
   "id": "80ffe4a9-060a-4a52-a856-5e9f902dda4d",
   "metadata": {},
   "outputs": [],
   "source": [
    "class OptionCRR():\n",
    "    \"\"\"\n",
    "    This function find the option price under CRR Model.\n",
    "    \"\"\"\n",
    "    \n",
    "    def __init__(self, s0, sigma, strike, maturity, rfr, n, dyield = None):\n",
    "        '''\n",
    "        s0: initial equity price, sigma: volatility, rfr: risk free rate, n: number\n",
    "        '''\n",
    "        self.s0 = s0\n",
    "        self.sigma = sigma\n",
    "        self.rfr = rfr\n",
    "        self.maturity = maturity\n",
    "        self.strike = strike\n",
    "        self.n = n\n",
    "        self.dyield = dyield\n",
    "        \n",
    "    def price(self):\n",
    "        delta = float(self.maturity)/float(self.n)\n",
    "        u = math.exp(self.sigma*math.sqrt(delta))\n",
    "        d= 1/math.exp(self.sigma*math.sqrt(delta))\n",
    "        if self.dyield == None:\n",
    "            q = (math.exp(self.rfr*delta) - d) / (u - d)\n",
    "        else:\n",
    "            q = (math.exp((self.rfr-self.dyield)*delta) - d) / (u - d)\n",
    "        prc = 0\n",
    "        temp_stock = 0\n",
    "        temp_payout = 0\n",
    "        for x in range(0, self.n + 1):\n",
    "            temp_stock = self.s0*((u)**(x))*((d)**(self.n - x))\n",
    "            temp_payout = max(temp_stock - self.strike, 0)\n",
    "            prc += nCr(self.n, x)*(q**(x))*((1-q)**(self.n - x))*temp_payout\n",
    "        prc = prc / ((1+ self.rfr*delta )**self.n)\n",
    "        #prc = prc / math.exp(self.rfr*delta)\n",
    "        return prc"
   ]
  },
  {
   "cell_type": "code",
   "execution_count": 25,
   "id": "51756283-1540-4b28-b17e-987230e3c2a8",
   "metadata": {},
   "outputs": [
    {
     "data": {
      "text/html": [
       "<div>\n",
       "<style scoped>\n",
       "    .dataframe tbody tr th:only-of-type {\n",
       "        vertical-align: middle;\n",
       "    }\n",
       "\n",
       "    .dataframe tbody tr th {\n",
       "        vertical-align: top;\n",
       "    }\n",
       "\n",
       "    .dataframe thead th {\n",
       "        text-align: right;\n",
       "    }\n",
       "</style>\n",
       "<table border=\"1\" class=\"dataframe\">\n",
       "  <thead>\n",
       "    <tr style=\"text-align: right;\">\n",
       "      <th></th>\n",
       "      <th>Date</th>\n",
       "      <th>Open</th>\n",
       "      <th>High</th>\n",
       "      <th>Low</th>\n",
       "      <th>Close</th>\n",
       "      <th>Adj Close</th>\n",
       "      <th>Volume</th>\n",
       "    </tr>\n",
       "  </thead>\n",
       "  <tbody>\n",
       "    <tr>\n",
       "      <th>0</th>\n",
       "      <td>2002-02-13</td>\n",
       "      <td>9.625000</td>\n",
       "      <td>10.060000</td>\n",
       "      <td>9.525000</td>\n",
       "      <td>10.050000</td>\n",
       "      <td>6.766665</td>\n",
       "      <td>19054000</td>\n",
       "    </tr>\n",
       "    <tr>\n",
       "      <th>1</th>\n",
       "      <td>2002-02-14</td>\n",
       "      <td>10.175000</td>\n",
       "      <td>10.195000</td>\n",
       "      <td>9.925000</td>\n",
       "      <td>10.000000</td>\n",
       "      <td>6.733001</td>\n",
       "      <td>2755400</td>\n",
       "    </tr>\n",
       "    <tr>\n",
       "      <th>2</th>\n",
       "      <td>2002-02-15</td>\n",
       "      <td>10.000000</td>\n",
       "      <td>10.025000</td>\n",
       "      <td>9.850000</td>\n",
       "      <td>9.950000</td>\n",
       "      <td>6.699334</td>\n",
       "      <td>2097400</td>\n",
       "    </tr>\n",
       "    <tr>\n",
       "      <th>3</th>\n",
       "      <td>2002-02-19</td>\n",
       "      <td>9.900000</td>\n",
       "      <td>9.900000</td>\n",
       "      <td>9.375000</td>\n",
       "      <td>9.550000</td>\n",
       "      <td>6.430017</td>\n",
       "      <td>1852600</td>\n",
       "    </tr>\n",
       "    <tr>\n",
       "      <th>4</th>\n",
       "      <td>2002-02-20</td>\n",
       "      <td>9.600000</td>\n",
       "      <td>9.875000</td>\n",
       "      <td>9.525000</td>\n",
       "      <td>9.875000</td>\n",
       "      <td>6.648839</td>\n",
       "      <td>1723200</td>\n",
       "    </tr>\n",
       "    <tr>\n",
       "      <th>...</th>\n",
       "      <td>...</td>\n",
       "      <td>...</td>\n",
       "      <td>...</td>\n",
       "      <td>...</td>\n",
       "      <td>...</td>\n",
       "      <td>...</td>\n",
       "      <td>...</td>\n",
       "    </tr>\n",
       "    <tr>\n",
       "      <th>5080</th>\n",
       "      <td>2022-04-19</td>\n",
       "      <td>142.850006</td>\n",
       "      <td>152.979996</td>\n",
       "      <td>139.860001</td>\n",
       "      <td>152.470001</td>\n",
       "      <td>152.470001</td>\n",
       "      <td>2354200</td>\n",
       "    </tr>\n",
       "    <tr>\n",
       "      <th>5081</th>\n",
       "      <td>2022-04-20</td>\n",
       "      <td>152.000000</td>\n",
       "      <td>152.330002</td>\n",
       "      <td>146.649994</td>\n",
       "      <td>148.850006</td>\n",
       "      <td>148.850006</td>\n",
       "      <td>1162000</td>\n",
       "    </tr>\n",
       "    <tr>\n",
       "      <th>5082</th>\n",
       "      <td>2022-04-21</td>\n",
       "      <td>150.000000</td>\n",
       "      <td>153.119995</td>\n",
       "      <td>139.910004</td>\n",
       "      <td>141.559998</td>\n",
       "      <td>141.559998</td>\n",
       "      <td>1684400</td>\n",
       "    </tr>\n",
       "    <tr>\n",
       "      <th>5083</th>\n",
       "      <td>2022-04-22</td>\n",
       "      <td>142.550003</td>\n",
       "      <td>146.300003</td>\n",
       "      <td>135.550003</td>\n",
       "      <td>138.220001</td>\n",
       "      <td>138.220001</td>\n",
       "      <td>1566600</td>\n",
       "    </tr>\n",
       "    <tr>\n",
       "      <th>5084</th>\n",
       "      <td>2022-04-25</td>\n",
       "      <td>135.410004</td>\n",
       "      <td>139.710007</td>\n",
       "      <td>133.279999</td>\n",
       "      <td>135.949997</td>\n",
       "      <td>135.949997</td>\n",
       "      <td>1527900</td>\n",
       "    </tr>\n",
       "  </tbody>\n",
       "</table>\n",
       "<p>5085 rows × 7 columns</p>\n",
       "</div>"
      ],
      "text/plain": [
       "            Date        Open        High         Low       Close   Adj Close    Volume\n",
       "0     2002-02-13    9.625000   10.060000    9.525000   10.050000    6.766665  19054000\n",
       "1     2002-02-14   10.175000   10.195000    9.925000   10.000000    6.733001   2755400\n",
       "2     2002-02-15   10.000000   10.025000    9.850000    9.950000    6.699334   2097400\n",
       "3     2002-02-19    9.900000    9.900000    9.375000    9.550000    6.430017   1852600\n",
       "4     2002-02-20    9.600000    9.875000    9.525000    9.875000    6.648839   1723200\n",
       "...          ...         ...         ...         ...         ...         ...       ...\n",
       "5080  2022-04-19  142.850006  152.979996  139.860001  152.470001  152.470001   2354200\n",
       "5081  2022-04-20  152.000000  152.330002  146.649994  148.850006  148.850006   1162000\n",
       "5082  2022-04-21  150.000000  153.119995  139.910004  141.559998  141.559998   1684400\n",
       "5083  2022-04-22  142.550003  146.300003  135.550003  138.220001  138.220001   1566600\n",
       "5084  2022-04-25  135.410004  139.710007  133.279999  135.949997  135.949997   1527900\n",
       "\n",
       "[5085 rows x 7 columns]"
      ]
     },
     "execution_count": 25,
     "metadata": {},
     "output_type": "execute_result"
    }
   ],
   "source": [
    "import pandas as pd\n",
    "d = pd.read_csv(\"GME.csv\")\n",
    "d"
   ]
  },
  {
   "cell_type": "code",
   "execution_count": 26,
   "id": "c11df175-cad9-40da-a722-e6707e85b6a4",
   "metadata": {},
   "outputs": [],
   "source": [
    "df1 = d['Adj Close']"
   ]
  },
  {
   "cell_type": "code",
   "execution_count": 27,
   "id": "9644e4b2-e0a0-4298-afbb-a3470bf396ac",
   "metadata": {},
   "outputs": [],
   "source": [
    "log_price = np.log(df1)"
   ]
  },
  {
   "cell_type": "code",
   "execution_count": 28,
   "id": "6f0118ce-0d7f-45e1-852e-f0e390b63125",
   "metadata": {},
   "outputs": [],
   "source": [
    "log_ret = log_price.diff() #log_ret = log(d2/d1), log(d3,d2) .."
   ]
  },
  {
   "cell_type": "code",
   "execution_count": 29,
   "id": "8382284c-f3ea-4029-b02c-26e7fc7fb51f",
   "metadata": {},
   "outputs": [
    {
     "data": {
      "text/plain": [
       "0            NaN\n",
       "1      -0.004987\n",
       "2      -0.005013\n",
       "3      -0.041031\n",
       "4       0.033465\n",
       "          ...   \n",
       "5080    0.074951\n",
       "5081   -0.024029\n",
       "5082   -0.050215\n",
       "5083   -0.023877\n",
       "5084   -0.016559\n",
       "Name: Adj Close, Length: 5085, dtype: float64"
      ]
     },
     "execution_count": 29,
     "metadata": {},
     "output_type": "execute_result"
    }
   ],
   "source": [
    "log_ret"
   ]
  },
  {
   "cell_type": "code",
   "execution_count": null,
   "id": "51b4514b-64b3-41b8-8fb7-ff1b3dd0d6b7",
   "metadata": {},
   "outputs": [],
   "source": [
    "vol = ad"
   ]
  }
 ],
 "metadata": {
  "kernelspec": {
   "display_name": "Python 3 (ipykernel)",
   "language": "python",
   "name": "python3"
  },
  "language_info": {
   "codemirror_mode": {
    "name": "ipython",
    "version": 3
   },
   "file_extension": ".py",
   "mimetype": "text/x-python",
   "name": "python",
   "nbconvert_exporter": "python",
   "pygments_lexer": "ipython3",
   "version": "3.10.0"
  }
 },
 "nbformat": 4,
 "nbformat_minor": 5
}
