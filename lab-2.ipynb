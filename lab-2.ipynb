{
 "cells": [
  {
   "cell_type": "markdown",
   "id": "8d27059a",
   "metadata": {},
   "source": [
    "# Bond Cash Flow"
   ]
  },
  {
   "cell_type": "code",
   "execution_count": 6,
   "id": "aa3bfff2",
   "metadata": {},
   "outputs": [],
   "source": [
    "import pandas as pd\n",
    "import datetime as dt"
   ]
  },
  {
   "cell_type": "code",
   "execution_count": 7,
   "id": "d933884a",
   "metadata": {},
   "outputs": [],
   "source": [
    "# fv = 100\n",
    "# issue_date = 15/5/2005\n",
    "# maturity_date = 15/5/2015\n",
    "# coupon = 4.125 Semi-Anually"
   ]
  },
  {
   "cell_type": "code",
   "execution_count": 8,
   "id": "e372ca47",
   "metadata": {},
   "outputs": [],
   "source": [
    "fv = 100\n",
    "issue_date = dt.datetime(2005, 5, 15)\n",
    "maturity_date = dt.datetime(2015, 5, 15)\n",
    "coupon = 4.125\n",
    "dts = pd.date_range(issue_date, maturity_date, freq='6M')"
   ]
  },
  {
   "cell_type": "code",
   "execution_count": 9,
   "id": "2705e38a",
   "metadata": {},
   "outputs": [
    {
     "data": {
      "text/plain": [
       "DatetimeIndex(['2005-05-31', '2005-11-30', '2006-05-31', '2006-11-30',\n",
       "               '2007-05-31', '2007-11-30', '2008-05-31', '2008-11-30',\n",
       "               '2009-05-31', '2009-11-30', '2010-05-31', '2010-11-30',\n",
       "               '2011-05-31', '2011-11-30', '2012-05-31', '2012-11-30',\n",
       "               '2013-05-31', '2013-11-30', '2014-05-31', '2014-11-30'],\n",
       "              dtype='datetime64[ns]', freq='6M')"
      ]
     },
     "execution_count": 9,
     "metadata": {},
     "output_type": "execute_result"
    }
   ],
   "source": [
    "dts #error doesn't have maturity date"
   ]
  },
  {
   "cell_type": "code",
   "execution_count": 10,
   "id": "f54a4a06",
   "metadata": {},
   "outputs": [],
   "source": [
    "dts1 = pd.date_range(issue_date, maturity_date, periods=20) # have maturity date"
   ]
  },
  {
   "cell_type": "code",
   "execution_count": 11,
   "id": "857ed0c7",
   "metadata": {},
   "outputs": [
    {
     "data": {
      "text/plain": [
       "DatetimeIndex([          '2005-05-15 00:00:00',\n",
       "               '2005-11-23 05:03:09.473684210',\n",
       "               '2006-06-03 10:06:18.947368420',\n",
       "               '2006-12-12 15:09:28.421052632',\n",
       "               '2007-06-22 20:12:37.894736840',\n",
       "               '2008-01-01 01:15:47.368421056',\n",
       "               '2008-07-11 06:18:56.842105264',\n",
       "               '2009-01-19 11:22:06.315789472',\n",
       "               '2009-07-30 16:25:15.789473680',\n",
       "               '2010-02-07 21:28:25.263157888',\n",
       "               '2010-08-19 02:31:34.736842112',\n",
       "               '2011-02-27 07:34:44.210526304',\n",
       "               '2011-09-07 12:37:53.684210528',\n",
       "               '2012-03-17 17:41:03.157894720',\n",
       "               '2012-09-25 22:44:12.631578944',\n",
       "               '2013-04-06 03:47:22.105263136',\n",
       "               '2013-10-15 08:50:31.578947360',\n",
       "               '2014-04-25 13:53:41.052631584',\n",
       "               '2014-11-03 18:56:50.526315776',\n",
       "                         '2015-05-15 00:00:00'],\n",
       "              dtype='datetime64[ns]', freq=None)"
      ]
     },
     "execution_count": 11,
     "metadata": {},
     "output_type": "execute_result"
    }
   ],
   "source": [
    "dts1"
   ]
  },
  {
   "cell_type": "code",
   "execution_count": 12,
   "id": "def5783b",
   "metadata": {},
   "outputs": [],
   "source": [
    "dates = dts1.strftime('%y-%m-%d')"
   ]
  },
  {
   "cell_type": "code",
   "execution_count": 13,
   "id": "d3eb21ec",
   "metadata": {},
   "outputs": [
    {
     "data": {
      "text/plain": [
       "Index(['05-05-15', '05-11-23', '06-06-03', '06-12-12', '07-06-22', '08-01-01',\n",
       "       '08-07-11', '09-01-19', '09-07-30', '10-02-07', '10-08-19', '11-02-27',\n",
       "       '11-09-07', '12-03-17', '12-09-25', '13-04-06', '13-10-15', '14-04-25',\n",
       "       '14-11-03', '15-05-15'],\n",
       "      dtype='object')"
      ]
     },
     "execution_count": 13,
     "metadata": {},
     "output_type": "execute_result"
    }
   ],
   "source": [
    "dates"
   ]
  },
  {
   "cell_type": "code",
   "execution_count": 14,
   "id": "2fa06daa",
   "metadata": {},
   "outputs": [],
   "source": [
    "cash_flow = []\n",
    "for i in range(len(dates)):\n",
    "    if i!=0 and i!=(len(dates)-1):\n",
    "        cash_flow.append((fv*0.04125)/2)\n",
    "    elif i==0:\n",
    "        cash_flow.append(-fv)\n",
    "    else:\n",
    "        cash_flow.append(fv+(fv*0.04125)/2)"
   ]
  },
  {
   "cell_type": "code",
   "execution_count": 15,
   "id": "17cc8ced",
   "metadata": {},
   "outputs": [
    {
     "data": {
      "text/plain": [
       "[-100,\n",
       " 2.0625,\n",
       " 2.0625,\n",
       " 2.0625,\n",
       " 2.0625,\n",
       " 2.0625,\n",
       " 2.0625,\n",
       " 2.0625,\n",
       " 2.0625,\n",
       " 2.0625,\n",
       " 2.0625,\n",
       " 2.0625,\n",
       " 2.0625,\n",
       " 2.0625,\n",
       " 2.0625,\n",
       " 2.0625,\n",
       " 2.0625,\n",
       " 2.0625,\n",
       " 2.0625,\n",
       " 102.0625]"
      ]
     },
     "execution_count": 15,
     "metadata": {},
     "output_type": "execute_result"
    }
   ],
   "source": [
    "cash_flow"
   ]
  },
  {
   "cell_type": "code",
   "execution_count": 16,
   "id": "e3a46594",
   "metadata": {},
   "outputs": [],
   "source": [
    "df = pd.DataFrame()\n",
    "df['Dates'] = dates\n",
    "df['Cash_flow'] = cash_flow"
   ]
  },
  {
   "cell_type": "code",
   "execution_count": 17,
   "id": "e1efcf35",
   "metadata": {},
   "outputs": [
    {
     "data": {
      "text/html": [
       "<div>\n",
       "<style scoped>\n",
       "    .dataframe tbody tr th:only-of-type {\n",
       "        vertical-align: middle;\n",
       "    }\n",
       "\n",
       "    .dataframe tbody tr th {\n",
       "        vertical-align: top;\n",
       "    }\n",
       "\n",
       "    .dataframe thead th {\n",
       "        text-align: right;\n",
       "    }\n",
       "</style>\n",
       "<table border=\"1\" class=\"dataframe\">\n",
       "  <thead>\n",
       "    <tr style=\"text-align: right;\">\n",
       "      <th></th>\n",
       "      <th>Dates</th>\n",
       "      <th>Cash_flow</th>\n",
       "    </tr>\n",
       "  </thead>\n",
       "  <tbody>\n",
       "    <tr>\n",
       "      <th>0</th>\n",
       "      <td>05-05-15</td>\n",
       "      <td>-100.0000</td>\n",
       "    </tr>\n",
       "    <tr>\n",
       "      <th>1</th>\n",
       "      <td>05-11-23</td>\n",
       "      <td>2.0625</td>\n",
       "    </tr>\n",
       "    <tr>\n",
       "      <th>2</th>\n",
       "      <td>06-06-03</td>\n",
       "      <td>2.0625</td>\n",
       "    </tr>\n",
       "    <tr>\n",
       "      <th>3</th>\n",
       "      <td>06-12-12</td>\n",
       "      <td>2.0625</td>\n",
       "    </tr>\n",
       "    <tr>\n",
       "      <th>4</th>\n",
       "      <td>07-06-22</td>\n",
       "      <td>2.0625</td>\n",
       "    </tr>\n",
       "    <tr>\n",
       "      <th>5</th>\n",
       "      <td>08-01-01</td>\n",
       "      <td>2.0625</td>\n",
       "    </tr>\n",
       "    <tr>\n",
       "      <th>6</th>\n",
       "      <td>08-07-11</td>\n",
       "      <td>2.0625</td>\n",
       "    </tr>\n",
       "    <tr>\n",
       "      <th>7</th>\n",
       "      <td>09-01-19</td>\n",
       "      <td>2.0625</td>\n",
       "    </tr>\n",
       "    <tr>\n",
       "      <th>8</th>\n",
       "      <td>09-07-30</td>\n",
       "      <td>2.0625</td>\n",
       "    </tr>\n",
       "    <tr>\n",
       "      <th>9</th>\n",
       "      <td>10-02-07</td>\n",
       "      <td>2.0625</td>\n",
       "    </tr>\n",
       "    <tr>\n",
       "      <th>10</th>\n",
       "      <td>10-08-19</td>\n",
       "      <td>2.0625</td>\n",
       "    </tr>\n",
       "    <tr>\n",
       "      <th>11</th>\n",
       "      <td>11-02-27</td>\n",
       "      <td>2.0625</td>\n",
       "    </tr>\n",
       "    <tr>\n",
       "      <th>12</th>\n",
       "      <td>11-09-07</td>\n",
       "      <td>2.0625</td>\n",
       "    </tr>\n",
       "    <tr>\n",
       "      <th>13</th>\n",
       "      <td>12-03-17</td>\n",
       "      <td>2.0625</td>\n",
       "    </tr>\n",
       "    <tr>\n",
       "      <th>14</th>\n",
       "      <td>12-09-25</td>\n",
       "      <td>2.0625</td>\n",
       "    </tr>\n",
       "    <tr>\n",
       "      <th>15</th>\n",
       "      <td>13-04-06</td>\n",
       "      <td>2.0625</td>\n",
       "    </tr>\n",
       "    <tr>\n",
       "      <th>16</th>\n",
       "      <td>13-10-15</td>\n",
       "      <td>2.0625</td>\n",
       "    </tr>\n",
       "    <tr>\n",
       "      <th>17</th>\n",
       "      <td>14-04-25</td>\n",
       "      <td>2.0625</td>\n",
       "    </tr>\n",
       "    <tr>\n",
       "      <th>18</th>\n",
       "      <td>14-11-03</td>\n",
       "      <td>2.0625</td>\n",
       "    </tr>\n",
       "    <tr>\n",
       "      <th>19</th>\n",
       "      <td>15-05-15</td>\n",
       "      <td>102.0625</td>\n",
       "    </tr>\n",
       "  </tbody>\n",
       "</table>\n",
       "</div>"
      ],
      "text/plain": [
       "       Dates  Cash_flow\n",
       "0   05-05-15  -100.0000\n",
       "1   05-11-23     2.0625\n",
       "2   06-06-03     2.0625\n",
       "3   06-12-12     2.0625\n",
       "4   07-06-22     2.0625\n",
       "5   08-01-01     2.0625\n",
       "6   08-07-11     2.0625\n",
       "7   09-01-19     2.0625\n",
       "8   09-07-30     2.0625\n",
       "9   10-02-07     2.0625\n",
       "10  10-08-19     2.0625\n",
       "11  11-02-27     2.0625\n",
       "12  11-09-07     2.0625\n",
       "13  12-03-17     2.0625\n",
       "14  12-09-25     2.0625\n",
       "15  13-04-06     2.0625\n",
       "16  13-10-15     2.0625\n",
       "17  14-04-25     2.0625\n",
       "18  14-11-03     2.0625\n",
       "19  15-05-15   102.0625"
      ]
     },
     "execution_count": 17,
     "metadata": {},
     "output_type": "execute_result"
    }
   ],
   "source": [
    "df"
   ]
  },
  {
   "cell_type": "markdown",
   "id": "a2922faa",
   "metadata": {},
   "source": [
    "# Annuity Cash Flow, Present value, Future value"
   ]
  },
  {
   "cell_type": "code",
   "execution_count": 18,
   "id": "2186341c",
   "metadata": {},
   "outputs": [],
   "source": [
    "# rate, N=periods, Ftv=future_value, Freq "
   ]
  },
  {
   "cell_type": "code",
   "execution_count": 19,
   "id": "336819f2",
   "metadata": {},
   "outputs": [],
   "source": [
    "# To Find the present value of amount future_value, to be recieved after N years.\n",
    "# rate = rate/m if m freq interests compunding annually\n",
    "# {like investing in bod}\n",
    "def present_value(rate, N, ftv, freq):\n",
    "    return ftv/((1+rate/freq)**(N*freq)) # N=N*m and rate = rate/m\n",
    "\n",
    "def future_value(rate, N, pv, freq):\n",
    "    return pv*((1+rate/freq)**(N*freq)) \n",
    "\n",
    "# If C is invested for N years with rate r(annual) and compounded with freq.\n",
    "# what is future value {Like Loan}\n",
    "def future_value_period(rate, freq, N, C):\n",
    "    return (C/(rate/freq))*((1+rate/freq)**(freq*N)-1)\n",
    "\n",
    "def present_value_period(rate, freq, N, C):\n",
    "    return (C/(rate/freq))*(1-1/((1+rate/freq)**(freq*N)))"
   ]
  },
  {
   "cell_type": "code",
   "execution_count": 20,
   "id": "0b19e1ec",
   "metadata": {},
   "outputs": [
    {
     "data": {
      "text/plain": [
       "179.08476965428545"
      ]
     },
     "execution_count": 20,
     "metadata": {},
     "output_type": "execute_result"
    }
   ],
   "source": [
    "# example on above formula\n",
    "# Eg: rate=12%, N=5, PV=100.\n",
    "future_value(rate=0.12, N=5, pv=100, freq=2)"
   ]
  },
  {
   "cell_type": "code",
   "execution_count": 21,
   "id": "b7d2b459",
   "metadata": {},
   "outputs": [
    {
     "data": {
      "text/plain": [
       "5394.692970638295"
      ]
     },
     "execution_count": 21,
     "metadata": {},
     "output_type": "execute_result"
    }
   ],
   "source": [
    "future_value_period(rate=0.12, freq=12, N=2, C=200)"
   ]
  },
  {
   "cell_type": "code",
   "execution_count": 22,
   "id": "defa69d7",
   "metadata": {},
   "outputs": [],
   "source": [
    "# !pip install numpy-financial"
   ]
  },
  {
   "cell_type": "code",
   "execution_count": 23,
   "id": "d2082ed0",
   "metadata": {},
   "outputs": [],
   "source": [
    "import numpy_financial as npf"
   ]
  },
  {
   "cell_type": "code",
   "execution_count": 24,
   "id": "7aab7fd8",
   "metadata": {},
   "outputs": [
    {
     "data": {
      "text/plain": [
       "15692.928894335748"
      ]
     },
     "execution_count": 24,
     "metadata": {},
     "output_type": "execute_result"
    }
   ],
   "source": [
    "npf.fv(0.05/12, 10*12, -100, -100)"
   ]
  },
  {
   "cell_type": "code",
   "execution_count": 25,
   "id": "1fea26f0",
   "metadata": {},
   "outputs": [
    {
     "data": {
      "text/plain": [
       "-99.43601154877993"
      ]
     },
     "execution_count": 25,
     "metadata": {},
     "output_type": "execute_result"
    }
   ],
   "source": [
    "npf.pv(0.05/12, 10*12, -100, 15692)"
   ]
  },
  {
   "cell_type": "code",
   "execution_count": 27,
   "id": "89e12276",
   "metadata": {},
   "outputs": [],
   "source": [
    "cashflow_df = pd.read_csv('lab-2-cashflow.csv')"
   ]
  },
  {
   "cell_type": "code",
   "execution_count": 28,
   "id": "80659d8c",
   "metadata": {},
   "outputs": [
    {
     "data": {
      "text/html": [
       "<div>\n",
       "<style scoped>\n",
       "    .dataframe tbody tr th:only-of-type {\n",
       "        vertical-align: middle;\n",
       "    }\n",
       "\n",
       "    .dataframe tbody tr th {\n",
       "        vertical-align: top;\n",
       "    }\n",
       "\n",
       "    .dataframe thead th {\n",
       "        text-align: right;\n",
       "    }\n",
       "</style>\n",
       "<table border=\"1\" class=\"dataframe\">\n",
       "  <thead>\n",
       "    <tr style=\"text-align: right;\">\n",
       "      <th></th>\n",
       "      <th>Product</th>\n",
       "      <th>Year</th>\n",
       "      <th>Cash flows</th>\n",
       "      <th>Interest rate</th>\n",
       "    </tr>\n",
       "  </thead>\n",
       "  <tbody>\n",
       "    <tr>\n",
       "      <th>0</th>\n",
       "      <td>Flood insurance</td>\n",
       "      <td>0</td>\n",
       "      <td>24000</td>\n",
       "      <td>0.025</td>\n",
       "    </tr>\n",
       "    <tr>\n",
       "      <th>1</th>\n",
       "      <td>Flood insurance</td>\n",
       "      <td>1</td>\n",
       "      <td>-2000</td>\n",
       "      <td>0.026</td>\n",
       "    </tr>\n",
       "    <tr>\n",
       "      <th>2</th>\n",
       "      <td>Flood insurance</td>\n",
       "      <td>2</td>\n",
       "      <td>-2000</td>\n",
       "      <td>0.027</td>\n",
       "    </tr>\n",
       "    <tr>\n",
       "      <th>3</th>\n",
       "      <td>Flood insurance</td>\n",
       "      <td>3</td>\n",
       "      <td>-2000</td>\n",
       "      <td>0.028</td>\n",
       "    </tr>\n",
       "    <tr>\n",
       "      <th>4</th>\n",
       "      <td>Flood insurance</td>\n",
       "      <td>4</td>\n",
       "      <td>-2000</td>\n",
       "      <td>0.029</td>\n",
       "    </tr>\n",
       "  </tbody>\n",
       "</table>\n",
       "</div>"
      ],
      "text/plain": [
       "           Product  Year  Cash flows  Interest rate\n",
       "0  Flood insurance     0       24000          0.025\n",
       "1  Flood insurance     1       -2000          0.026\n",
       "2  Flood insurance     2       -2000          0.027\n",
       "3  Flood insurance     3       -2000          0.028\n",
       "4  Flood insurance     4       -2000          0.029"
      ]
     },
     "execution_count": 28,
     "metadata": {},
     "output_type": "execute_result"
    }
   ],
   "source": [
    "cashflow_df.head(5)"
   ]
  },
  {
   "cell_type": "code",
   "execution_count": 29,
   "id": "a4bb9501",
   "metadata": {},
   "outputs": [],
   "source": [
    "cashflow_df['Discount_Factor'] = 1/((1+cashflow_df['Interest rate'])**cashflow_df['Year'])"
   ]
  },
  {
   "cell_type": "code",
   "execution_count": 30,
   "id": "6b13f0e9",
   "metadata": {},
   "outputs": [
    {
     "data": {
      "text/html": [
       "<div>\n",
       "<style scoped>\n",
       "    .dataframe tbody tr th:only-of-type {\n",
       "        vertical-align: middle;\n",
       "    }\n",
       "\n",
       "    .dataframe tbody tr th {\n",
       "        vertical-align: top;\n",
       "    }\n",
       "\n",
       "    .dataframe thead th {\n",
       "        text-align: right;\n",
       "    }\n",
       "</style>\n",
       "<table border=\"1\" class=\"dataframe\">\n",
       "  <thead>\n",
       "    <tr style=\"text-align: right;\">\n",
       "      <th></th>\n",
       "      <th>Product</th>\n",
       "      <th>Year</th>\n",
       "      <th>Cash flows</th>\n",
       "      <th>Interest rate</th>\n",
       "      <th>Discount_Factor</th>\n",
       "    </tr>\n",
       "  </thead>\n",
       "  <tbody>\n",
       "    <tr>\n",
       "      <th>0</th>\n",
       "      <td>Flood insurance</td>\n",
       "      <td>0</td>\n",
       "      <td>24000</td>\n",
       "      <td>0.025</td>\n",
       "      <td>1.000000</td>\n",
       "    </tr>\n",
       "    <tr>\n",
       "      <th>1</th>\n",
       "      <td>Flood insurance</td>\n",
       "      <td>1</td>\n",
       "      <td>-2000</td>\n",
       "      <td>0.026</td>\n",
       "      <td>0.974659</td>\n",
       "    </tr>\n",
       "    <tr>\n",
       "      <th>2</th>\n",
       "      <td>Flood insurance</td>\n",
       "      <td>2</td>\n",
       "      <td>-2000</td>\n",
       "      <td>0.027</td>\n",
       "      <td>0.948111</td>\n",
       "    </tr>\n",
       "    <tr>\n",
       "      <th>3</th>\n",
       "      <td>Flood insurance</td>\n",
       "      <td>3</td>\n",
       "      <td>-2000</td>\n",
       "      <td>0.028</td>\n",
       "      <td>0.920493</td>\n",
       "    </tr>\n",
       "    <tr>\n",
       "      <th>4</th>\n",
       "      <td>Flood insurance</td>\n",
       "      <td>4</td>\n",
       "      <td>-2000</td>\n",
       "      <td>0.029</td>\n",
       "      <td>0.891946</td>\n",
       "    </tr>\n",
       "    <tr>\n",
       "      <th>5</th>\n",
       "      <td>Flood insurance</td>\n",
       "      <td>5</td>\n",
       "      <td>-2000</td>\n",
       "      <td>0.030</td>\n",
       "      <td>0.862609</td>\n",
       "    </tr>\n",
       "    <tr>\n",
       "      <th>6</th>\n",
       "      <td>Flood insurance</td>\n",
       "      <td>6</td>\n",
       "      <td>-2000</td>\n",
       "      <td>0.031</td>\n",
       "      <td>0.832622</td>\n",
       "    </tr>\n",
       "    <tr>\n",
       "      <th>7</th>\n",
       "      <td>Flood insurance</td>\n",
       "      <td>7</td>\n",
       "      <td>-2000</td>\n",
       "      <td>0.032</td>\n",
       "      <td>0.802125</td>\n",
       "    </tr>\n",
       "    <tr>\n",
       "      <th>8</th>\n",
       "      <td>Flood insurance</td>\n",
       "      <td>8</td>\n",
       "      <td>-2000</td>\n",
       "      <td>0.033</td>\n",
       "      <td>0.771254</td>\n",
       "    </tr>\n",
       "    <tr>\n",
       "      <th>9</th>\n",
       "      <td>Flood insurance</td>\n",
       "      <td>9</td>\n",
       "      <td>-2000</td>\n",
       "      <td>0.034</td>\n",
       "      <td>0.740142</td>\n",
       "    </tr>\n",
       "  </tbody>\n",
       "</table>\n",
       "</div>"
      ],
      "text/plain": [
       "           Product  Year  Cash flows  Interest rate  Discount_Factor\n",
       "0  Flood insurance     0       24000          0.025         1.000000\n",
       "1  Flood insurance     1       -2000          0.026         0.974659\n",
       "2  Flood insurance     2       -2000          0.027         0.948111\n",
       "3  Flood insurance     3       -2000          0.028         0.920493\n",
       "4  Flood insurance     4       -2000          0.029         0.891946\n",
       "5  Flood insurance     5       -2000          0.030         0.862609\n",
       "6  Flood insurance     6       -2000          0.031         0.832622\n",
       "7  Flood insurance     7       -2000          0.032         0.802125\n",
       "8  Flood insurance     8       -2000          0.033         0.771254\n",
       "9  Flood insurance     9       -2000          0.034         0.740142"
      ]
     },
     "execution_count": 30,
     "metadata": {},
     "output_type": "execute_result"
    }
   ],
   "source": [
    "cashflow_df.head(10)"
   ]
  },
  {
   "cell_type": "code",
   "execution_count": 31,
   "id": "c3f9c308",
   "metadata": {},
   "outputs": [],
   "source": [
    "cashflow_df['Present_value'] = cashflow_df['Cash flows']*cashflow_df['Discount_Factor']"
   ]
  },
  {
   "cell_type": "code",
   "execution_count": 32,
   "id": "2afacd85",
   "metadata": {},
   "outputs": [
    {
     "data": {
      "text/html": [
       "<div>\n",
       "<style scoped>\n",
       "    .dataframe tbody tr th:only-of-type {\n",
       "        vertical-align: middle;\n",
       "    }\n",
       "\n",
       "    .dataframe tbody tr th {\n",
       "        vertical-align: top;\n",
       "    }\n",
       "\n",
       "    .dataframe thead th {\n",
       "        text-align: right;\n",
       "    }\n",
       "</style>\n",
       "<table border=\"1\" class=\"dataframe\">\n",
       "  <thead>\n",
       "    <tr style=\"text-align: right;\">\n",
       "      <th></th>\n",
       "      <th>Product</th>\n",
       "      <th>Year</th>\n",
       "      <th>Cash flows</th>\n",
       "      <th>Interest rate</th>\n",
       "      <th>Discount_Factor</th>\n",
       "      <th>Present_value</th>\n",
       "    </tr>\n",
       "  </thead>\n",
       "  <tbody>\n",
       "    <tr>\n",
       "      <th>0</th>\n",
       "      <td>Flood insurance</td>\n",
       "      <td>0</td>\n",
       "      <td>24000</td>\n",
       "      <td>0.025</td>\n",
       "      <td>1.000000</td>\n",
       "      <td>24000.000000</td>\n",
       "    </tr>\n",
       "    <tr>\n",
       "      <th>1</th>\n",
       "      <td>Flood insurance</td>\n",
       "      <td>1</td>\n",
       "      <td>-2000</td>\n",
       "      <td>0.026</td>\n",
       "      <td>0.974659</td>\n",
       "      <td>-1949.317739</td>\n",
       "    </tr>\n",
       "    <tr>\n",
       "      <th>2</th>\n",
       "      <td>Flood insurance</td>\n",
       "      <td>2</td>\n",
       "      <td>-2000</td>\n",
       "      <td>0.027</td>\n",
       "      <td>0.948111</td>\n",
       "      <td>-1896.221683</td>\n",
       "    </tr>\n",
       "    <tr>\n",
       "      <th>3</th>\n",
       "      <td>Flood insurance</td>\n",
       "      <td>3</td>\n",
       "      <td>-2000</td>\n",
       "      <td>0.028</td>\n",
       "      <td>0.920493</td>\n",
       "      <td>-1840.986703</td>\n",
       "    </tr>\n",
       "    <tr>\n",
       "      <th>4</th>\n",
       "      <td>Flood insurance</td>\n",
       "      <td>4</td>\n",
       "      <td>-2000</td>\n",
       "      <td>0.029</td>\n",
       "      <td>0.891946</td>\n",
       "      <td>-1783.891748</td>\n",
       "    </tr>\n",
       "    <tr>\n",
       "      <th>5</th>\n",
       "      <td>Flood insurance</td>\n",
       "      <td>5</td>\n",
       "      <td>-2000</td>\n",
       "      <td>0.030</td>\n",
       "      <td>0.862609</td>\n",
       "      <td>-1725.217569</td>\n",
       "    </tr>\n",
       "    <tr>\n",
       "      <th>6</th>\n",
       "      <td>Flood insurance</td>\n",
       "      <td>6</td>\n",
       "      <td>-2000</td>\n",
       "      <td>0.031</td>\n",
       "      <td>0.832622</td>\n",
       "      <td>-1665.244485</td>\n",
       "    </tr>\n",
       "    <tr>\n",
       "      <th>7</th>\n",
       "      <td>Flood insurance</td>\n",
       "      <td>7</td>\n",
       "      <td>-2000</td>\n",
       "      <td>0.032</td>\n",
       "      <td>0.802125</td>\n",
       "      <td>-1604.250246</td>\n",
       "    </tr>\n",
       "    <tr>\n",
       "      <th>8</th>\n",
       "      <td>Flood insurance</td>\n",
       "      <td>8</td>\n",
       "      <td>-2000</td>\n",
       "      <td>0.033</td>\n",
       "      <td>0.771254</td>\n",
       "      <td>-1542.507994</td>\n",
       "    </tr>\n",
       "    <tr>\n",
       "      <th>9</th>\n",
       "      <td>Flood insurance</td>\n",
       "      <td>9</td>\n",
       "      <td>-2000</td>\n",
       "      <td>0.034</td>\n",
       "      <td>0.740142</td>\n",
       "      <td>-1480.284347</td>\n",
       "    </tr>\n",
       "  </tbody>\n",
       "</table>\n",
       "</div>"
      ],
      "text/plain": [
       "           Product  Year  Cash flows  Interest rate  Discount_Factor  \\\n",
       "0  Flood insurance     0       24000          0.025         1.000000   \n",
       "1  Flood insurance     1       -2000          0.026         0.974659   \n",
       "2  Flood insurance     2       -2000          0.027         0.948111   \n",
       "3  Flood insurance     3       -2000          0.028         0.920493   \n",
       "4  Flood insurance     4       -2000          0.029         0.891946   \n",
       "5  Flood insurance     5       -2000          0.030         0.862609   \n",
       "6  Flood insurance     6       -2000          0.031         0.832622   \n",
       "7  Flood insurance     7       -2000          0.032         0.802125   \n",
       "8  Flood insurance     8       -2000          0.033         0.771254   \n",
       "9  Flood insurance     9       -2000          0.034         0.740142   \n",
       "\n",
       "   Present_value  \n",
       "0   24000.000000  \n",
       "1   -1949.317739  \n",
       "2   -1896.221683  \n",
       "3   -1840.986703  \n",
       "4   -1783.891748  \n",
       "5   -1725.217569  \n",
       "6   -1665.244485  \n",
       "7   -1604.250246  \n",
       "8   -1542.507994  \n",
       "9   -1480.284347  "
      ]
     },
     "execution_count": 32,
     "metadata": {},
     "output_type": "execute_result"
    }
   ],
   "source": [
    "cashflow_df.head(10)"
   ]
  },
  {
   "cell_type": "code",
   "execution_count": 33,
   "id": "e70c958b",
   "metadata": {},
   "outputs": [],
   "source": [
    "cashflow_aggregate = cashflow_df.groupby(\"Product\")[['Present_value']].sum()"
   ]
  },
  {
   "cell_type": "code",
   "execution_count": 34,
   "id": "a70ba269",
   "metadata": {},
   "outputs": [
    {
     "data": {
      "text/html": [
       "<div>\n",
       "<style scoped>\n",
       "    .dataframe tbody tr th:only-of-type {\n",
       "        vertical-align: middle;\n",
       "    }\n",
       "\n",
       "    .dataframe tbody tr th {\n",
       "        vertical-align: top;\n",
       "    }\n",
       "\n",
       "    .dataframe thead th {\n",
       "        text-align: right;\n",
       "    }\n",
       "</style>\n",
       "<table border=\"1\" class=\"dataframe\">\n",
       "  <thead>\n",
       "    <tr style=\"text-align: right;\">\n",
       "      <th></th>\n",
       "      <th>Present_value</th>\n",
       "    </tr>\n",
       "    <tr>\n",
       "      <th>Product</th>\n",
       "      <th></th>\n",
       "    </tr>\n",
       "  </thead>\n",
       "  <tbody>\n",
       "    <tr>\n",
       "      <th>Fire insurance</th>\n",
       "      <td>993.107122</td>\n",
       "    </tr>\n",
       "    <tr>\n",
       "      <th>Flood insurance</th>\n",
       "      <td>7094.239858</td>\n",
       "    </tr>\n",
       "  </tbody>\n",
       "</table>\n",
       "</div>"
      ],
      "text/plain": [
       "                 Present_value\n",
       "Product                       \n",
       "Fire insurance      993.107122\n",
       "Flood insurance    7094.239858"
      ]
     },
     "execution_count": 34,
     "metadata": {},
     "output_type": "execute_result"
    }
   ],
   "source": [
    "cashflow_aggregate"
   ]
  },
  {
   "cell_type": "markdown",
   "id": "941d039e-5384-4c4d-b2d8-2d25a1e92cac",
   "metadata": {},
   "source": [
    "## Internal rate of return"
   ]
  },
  {
   "cell_type": "code",
   "execution_count": 35,
   "id": "8c4cd084",
   "metadata": {},
   "outputs": [
    {
     "data": {
      "text/plain": [
       "0.2999999999999998"
      ]
     },
     "execution_count": 35,
     "metadata": {},
     "output_type": "execute_result"
    }
   ],
   "source": [
    "npf.irr([-100, 30, 30, 30, 130])"
   ]
  },
  {
   "cell_type": "code",
   "execution_count": 36,
   "id": "c6345fdc",
   "metadata": {},
   "outputs": [
    {
     "name": "stdout",
     "output_type": "stream",
     "text": [
      "Help on function irr in module numpy_financial._financial:\n",
      "\n",
      "irr(values)\n",
      "    Return the Internal Rate of Return (IRR).\n",
      "    \n",
      "    This is the \"average\" periodically compounded rate of return\n",
      "    that gives a net present value of 0.0; for a more complete explanation,\n",
      "    see Notes below.\n",
      "    \n",
      "    :class:`decimal.Decimal` type is not supported.\n",
      "    \n",
      "    Parameters\n",
      "    ----------\n",
      "    values : array_like, shape(N,)\n",
      "        Input cash flows per time period.  By convention, net \"deposits\"\n",
      "        are negative and net \"withdrawals\" are positive.  Thus, for\n",
      "        example, at least the first element of `values`, which represents\n",
      "        the initial investment, will typically be negative.\n",
      "    \n",
      "    Returns\n",
      "    -------\n",
      "    out : float\n",
      "        Internal Rate of Return for periodic input values.\n",
      "    \n",
      "    Notes\n",
      "    -----\n",
      "    The IRR is perhaps best understood through an example (illustrated\n",
      "    using np.irr in the Examples section below).  Suppose one invests 100\n",
      "    units and then makes the following withdrawals at regular (fixed)\n",
      "    intervals: 39, 59, 55, 20.  Assuming the ending value is 0, one's 100\n",
      "    unit investment yields 173 units; however, due to the combination of\n",
      "    compounding and the periodic withdrawals, the \"average\" rate of return\n",
      "    is neither simply 0.73/4 nor (1.73)^0.25-1.  Rather, it is the solution\n",
      "    (for :math:`r`) of the equation:\n",
      "    \n",
      "    .. math:: -100 + \\frac{39}{1+r} + \\frac{59}{(1+r)^2}\n",
      "     + \\frac{55}{(1+r)^3} + \\frac{20}{(1+r)^4} = 0\n",
      "    \n",
      "    In general, for `values` :math:`= [v_0, v_1, ... v_M]`,\n",
      "    irr is the solution of the equation: [G]_\n",
      "    \n",
      "    .. math:: \\sum_{t=0}^M{\\frac{v_t}{(1+irr)^{t}}} = 0\n",
      "    \n",
      "    References\n",
      "    ----------\n",
      "    .. [G] L. J. Gitman, \"Principles of Managerial Finance, Brief,\" 3rd ed.,\n",
      "       Addison-Wesley, 2003, pg. 348.\n",
      "    \n",
      "    Examples\n",
      "    --------\n",
      "    >>> import numpy_financial as npf\n",
      "    \n",
      "    >>> round(npf.irr([-100, 39, 59, 55, 20]), 5)\n",
      "    0.28095\n",
      "    >>> round(npf.irr([-100, 0, 0, 74]), 5)\n",
      "    -0.0955\n",
      "    >>> round(npf.irr([-100, 100, 0, -7]), 5)\n",
      "    -0.0833\n",
      "    >>> round(npf.irr([-100, 100, 0, 7]), 5)\n",
      "    0.06206\n",
      "    >>> round(npf.irr([-5, 10.5, 1, -8, 1]), 5)\n",
      "    0.0886\n",
      "\n"
     ]
    }
   ],
   "source": [
    "help(npf.irr)"
   ]
  },
  {
   "cell_type": "code",
   "execution_count": 37,
   "id": "cd854c46",
   "metadata": {},
   "outputs": [],
   "source": [
    "values = [[-100, 120], [-100, 20, 120], [-100, 30, 30, 120], [-100, 20, 40, 40, 120]]\n",
    "irr = []\n",
    "for i in range(len(values)):\n",
    "    irr.append(npf.irr(values=values[i]))"
   ]
  },
  {
   "cell_type": "code",
   "execution_count": 38,
   "id": "f95f9f42",
   "metadata": {},
   "outputs": [
    {
     "data": {
      "text/plain": [
       "[0.19999999999999996,\n",
       " 0.19999999999999996,\n",
       " 0.274347860605328,\n",
       " 0.2967167015500347]"
      ]
     },
     "execution_count": 38,
     "metadata": {},
     "output_type": "execute_result"
    }
   ],
   "source": [
    "irr"
   ]
  },
  {
   "cell_type": "code",
   "execution_count": 42,
   "id": "54fe1353",
   "metadata": {},
   "outputs": [
    {
     "name": "stdout",
     "output_type": "stream",
     "text": [
      "Collecting scipy\n",
      "  Downloading scipy-1.8.0-cp310-cp310-win_amd64.whl (37.0 MB)\n",
      "Requirement already satisfied: numpy<1.25.0,>=1.17.3 in c:\\users\\kumaw\\miniconda3\\envs\\fdp\\lib\\site-packages (from scipy) (1.22.0)\n",
      "Installing collected packages: scipy\n",
      "Successfully installed scipy-1.8.0\n"
     ]
    }
   ],
   "source": [
    "# !pip install scipy"
   ]
  },
  {
   "cell_type": "code",
   "execution_count": 43,
   "id": "8d5da0a6",
   "metadata": {},
   "outputs": [],
   "source": [
    "import matplotlib.pyplot as plt\n",
    "import numpy as np\n",
    "from scipy.interpolate import interp1d"
   ]
  },
  {
   "cell_type": "code",
   "execution_count": 44,
   "id": "d918c942",
   "metadata": {},
   "outputs": [
    {
     "data": {
      "text/plain": [
       "[<matplotlib.lines.Line2D at 0x29ca944e620>]"
      ]
     },
     "execution_count": 44,
     "metadata": {},
     "output_type": "execute_result"
    },
    {
     "data": {
      "image/png": "[encoded data removed]",
      "text/plain": [
       "<Figure size 432x288 with 1 Axes>"
      ]
     },
     "metadata": {
      "needs_background": "light"
     },
     "output_type": "display_data"
    }
   ],
   "source": [
    "x = np.linspace(1,4,num=10, endpoint=True)\n",
    "f2 = interp1d([1,2,3,4], irr, kind='cubic')\n",
    "plt.plot(x, f2(x), '-')"
   ]
  },
  {
   "cell_type": "markdown",
   "id": "4b2cb43e-fdb3-40b9-a5dc-9a94cae0ffc5",
   "metadata": {},
   "source": [
    "## Yield"
   ]
  },
  {
   "cell_type": "code",
   "execution_count": 45,
   "id": "074155d6",
   "metadata": {},
   "outputs": [
    {
     "name": "stdout",
     "output_type": "stream",
     "text": [
      "Collecting Quandl\n",
      "  Downloading Quandl-3.7.0-py2.py3-none-any.whl (26 kB)\n",
      "Collecting inflection>=0.3.1\n",
      "  Downloading inflection-0.5.1-py2.py3-none-any.whl (9.5 kB)\n",
      "Requirement already satisfied: numpy>=1.8 in c:\\users\\kumaw\\miniconda3\\envs\\fdp\\lib\\site-packages (from Quandl) (1.22.0)\n",
      "Requirement already satisfied: six in c:\\users\\kumaw\\miniconda3\\envs\\fdp\\lib\\site-packages (from Quandl) (1.16.0)\n",
      "Requirement already satisfied: pandas>=0.14 in c:\\users\\kumaw\\miniconda3\\envs\\fdp\\lib\\site-packages (from Quandl) (1.3.5)\n",
      "Requirement already satisfied: requests>=2.7.0 in c:\\users\\kumaw\\miniconda3\\envs\\fdp\\lib\\site-packages (from Quandl) (2.27.1)\n",
      "Collecting more-itertools\n",
      "  Downloading more_itertools-8.12.0-py3-none-any.whl (54 kB)\n",
      "Requirement already satisfied: python-dateutil in c:\\users\\kumaw\\miniconda3\\envs\\fdp\\lib\\site-packages (from Quandl) (2.8.2)\n",
      "Requirement already satisfied: pytz>=2017.3 in c:\\users\\kumaw\\miniconda3\\envs\\fdp\\lib\\site-packages (from pandas>=0.14->Quandl) (2021.3)\n",
      "Requirement already satisfied: urllib3<1.27,>=1.21.1 in c:\\users\\kumaw\\miniconda3\\envs\\fdp\\lib\\site-packages (from requests>=2.7.0->Quandl) (1.26.8)\n",
      "Requirement already satisfied: idna<4,>=2.5 in c:\\users\\kumaw\\miniconda3\\envs\\fdp\\lib\\site-packages (from requests>=2.7.0->Quandl) (3.3)\n",
      "Requirement already satisfied: certifi>=2017.4.17 in c:\\users\\kumaw\\miniconda3\\envs\\fdp\\lib\\site-packages (from requests>=2.7.0->Quandl) (2021.10.8)\n",
      "Requirement already satisfied: charset-normalizer~=2.0.0 in c:\\users\\kumaw\\miniconda3\\envs\\fdp\\lib\\site-packages (from requests>=2.7.0->Quandl) (2.0.10)\n",
      "Installing collected packages: more-itertools, inflection, Quandl\n",
      "Successfully installed Quandl-3.7.0 inflection-0.5.1 more-itertools-8.12.0\n"
     ]
    }
   ],
   "source": [
    "# !pip install Quandl"
   ]
  },
  {
   "cell_type": "code",
   "execution_count": 46,
   "id": "d5b7da9d",
   "metadata": {},
   "outputs": [],
   "source": [
    "import quandl as ql\n",
    "yield_ = ql.get(\"USTREASURY/YIELD\")"
   ]
  },
  {
   "cell_type": "code",
   "execution_count": 47,
   "id": "1a1ae084",
   "metadata": {},
   "outputs": [
    {
     "data": {
      "text/html": [
       "<div>\n",
       "<style scoped>\n",
       "    .dataframe tbody tr th:only-of-type {\n",
       "        vertical-align: middle;\n",
       "    }\n",
       "\n",
       "    .dataframe tbody tr th {\n",
       "        vertical-align: top;\n",
       "    }\n",
       "\n",
       "    .dataframe thead th {\n",
       "        text-align: right;\n",
       "    }\n",
       "</style>\n",
       "<table border=\"1\" class=\"dataframe\">\n",
       "  <thead>\n",
       "    <tr style=\"text-align: right;\">\n",
       "      <th></th>\n",
       "      <th>1 MO</th>\n",
       "      <th>2 MO</th>\n",
       "      <th>3 MO</th>\n",
       "      <th>6 MO</th>\n",
       "      <th>1 YR</th>\n",
       "      <th>2 YR</th>\n",
       "      <th>3 YR</th>\n",
       "      <th>5 YR</th>\n",
       "      <th>7 YR</th>\n",
       "      <th>10 YR</th>\n",
       "      <th>20 YR</th>\n",
       "      <th>30 YR</th>\n",
       "    </tr>\n",
       "    <tr>\n",
       "      <th>Date</th>\n",
       "      <th></th>\n",
       "      <th></th>\n",
       "      <th></th>\n",
       "      <th></th>\n",
       "      <th></th>\n",
       "      <th></th>\n",
       "      <th></th>\n",
       "      <th></th>\n",
       "      <th></th>\n",
       "      <th></th>\n",
       "      <th></th>\n",
       "      <th></th>\n",
       "    </tr>\n",
       "  </thead>\n",
       "  <tbody>\n",
       "    <tr>\n",
       "      <th>1990-01-02</th>\n",
       "      <td>NaN</td>\n",
       "      <td>NaN</td>\n",
       "      <td>7.83</td>\n",
       "      <td>7.89</td>\n",
       "      <td>7.81</td>\n",
       "      <td>7.87</td>\n",
       "      <td>7.90</td>\n",
       "      <td>7.87</td>\n",
       "      <td>7.98</td>\n",
       "      <td>7.94</td>\n",
       "      <td>NaN</td>\n",
       "      <td>8.00</td>\n",
       "    </tr>\n",
       "    <tr>\n",
       "      <th>1990-01-03</th>\n",
       "      <td>NaN</td>\n",
       "      <td>NaN</td>\n",
       "      <td>7.89</td>\n",
       "      <td>7.94</td>\n",
       "      <td>7.85</td>\n",
       "      <td>7.94</td>\n",
       "      <td>7.96</td>\n",
       "      <td>7.92</td>\n",
       "      <td>8.04</td>\n",
       "      <td>7.99</td>\n",
       "      <td>NaN</td>\n",
       "      <td>8.04</td>\n",
       "    </tr>\n",
       "    <tr>\n",
       "      <th>1990-01-04</th>\n",
       "      <td>NaN</td>\n",
       "      <td>NaN</td>\n",
       "      <td>7.84</td>\n",
       "      <td>7.90</td>\n",
       "      <td>7.82</td>\n",
       "      <td>7.92</td>\n",
       "      <td>7.93</td>\n",
       "      <td>7.91</td>\n",
       "      <td>8.02</td>\n",
       "      <td>7.98</td>\n",
       "      <td>NaN</td>\n",
       "      <td>8.04</td>\n",
       "    </tr>\n",
       "    <tr>\n",
       "      <th>1990-01-05</th>\n",
       "      <td>NaN</td>\n",
       "      <td>NaN</td>\n",
       "      <td>7.79</td>\n",
       "      <td>7.85</td>\n",
       "      <td>7.79</td>\n",
       "      <td>7.90</td>\n",
       "      <td>7.94</td>\n",
       "      <td>7.92</td>\n",
       "      <td>8.03</td>\n",
       "      <td>7.99</td>\n",
       "      <td>NaN</td>\n",
       "      <td>8.06</td>\n",
       "    </tr>\n",
       "    <tr>\n",
       "      <th>1990-01-08</th>\n",
       "      <td>NaN</td>\n",
       "      <td>NaN</td>\n",
       "      <td>7.79</td>\n",
       "      <td>7.88</td>\n",
       "      <td>7.81</td>\n",
       "      <td>7.90</td>\n",
       "      <td>7.95</td>\n",
       "      <td>7.92</td>\n",
       "      <td>8.05</td>\n",
       "      <td>8.02</td>\n",
       "      <td>NaN</td>\n",
       "      <td>8.09</td>\n",
       "    </tr>\n",
       "    <tr>\n",
       "      <th>...</th>\n",
       "      <td>...</td>\n",
       "      <td>...</td>\n",
       "      <td>...</td>\n",
       "      <td>...</td>\n",
       "      <td>...</td>\n",
       "      <td>...</td>\n",
       "      <td>...</td>\n",
       "      <td>...</td>\n",
       "      <td>...</td>\n",
       "      <td>...</td>\n",
       "      <td>...</td>\n",
       "      <td>...</td>\n",
       "    </tr>\n",
       "    <tr>\n",
       "      <th>2022-01-31</th>\n",
       "      <td>0.03</td>\n",
       "      <td>0.13</td>\n",
       "      <td>0.22</td>\n",
       "      <td>0.49</td>\n",
       "      <td>0.78</td>\n",
       "      <td>1.18</td>\n",
       "      <td>1.39</td>\n",
       "      <td>1.62</td>\n",
       "      <td>1.75</td>\n",
       "      <td>1.79</td>\n",
       "      <td>2.17</td>\n",
       "      <td>2.11</td>\n",
       "    </tr>\n",
       "    <tr>\n",
       "      <th>2022-02-01</th>\n",
       "      <td>0.04</td>\n",
       "      <td>0.10</td>\n",
       "      <td>0.19</td>\n",
       "      <td>0.48</td>\n",
       "      <td>0.78</td>\n",
       "      <td>1.18</td>\n",
       "      <td>1.39</td>\n",
       "      <td>1.63</td>\n",
       "      <td>1.76</td>\n",
       "      <td>1.81</td>\n",
       "      <td>2.19</td>\n",
       "      <td>2.12</td>\n",
       "    </tr>\n",
       "    <tr>\n",
       "      <th>2022-02-02</th>\n",
       "      <td>0.04</td>\n",
       "      <td>0.10</td>\n",
       "      <td>0.19</td>\n",
       "      <td>0.45</td>\n",
       "      <td>0.76</td>\n",
       "      <td>1.16</td>\n",
       "      <td>1.38</td>\n",
       "      <td>1.60</td>\n",
       "      <td>1.74</td>\n",
       "      <td>1.78</td>\n",
       "      <td>2.17</td>\n",
       "      <td>2.11</td>\n",
       "    </tr>\n",
       "    <tr>\n",
       "      <th>2022-02-03</th>\n",
       "      <td>0.03</td>\n",
       "      <td>0.15</td>\n",
       "      <td>0.20</td>\n",
       "      <td>0.48</td>\n",
       "      <td>0.78</td>\n",
       "      <td>1.19</td>\n",
       "      <td>1.42</td>\n",
       "      <td>1.66</td>\n",
       "      <td>1.78</td>\n",
       "      <td>1.82</td>\n",
       "      <td>2.20</td>\n",
       "      <td>2.14</td>\n",
       "    </tr>\n",
       "    <tr>\n",
       "      <th>2022-02-04</th>\n",
       "      <td>0.05</td>\n",
       "      <td>0.12</td>\n",
       "      <td>0.23</td>\n",
       "      <td>0.56</td>\n",
       "      <td>0.89</td>\n",
       "      <td>1.31</td>\n",
       "      <td>1.55</td>\n",
       "      <td>1.78</td>\n",
       "      <td>1.90</td>\n",
       "      <td>1.93</td>\n",
       "      <td>2.29</td>\n",
       "      <td>2.23</td>\n",
       "    </tr>\n",
       "  </tbody>\n",
       "</table>\n",
       "<p>8032 rows × 12 columns</p>\n",
       "</div>"
      ],
      "text/plain": [
       "            1 MO  2 MO  3 MO  6 MO  1 YR  2 YR  3 YR  5 YR  7 YR  10 YR  \\\n",
       "Date                                                                      \n",
       "1990-01-02   NaN   NaN  7.83  7.89  7.81  7.87  7.90  7.87  7.98   7.94   \n",
       "1990-01-03   NaN   NaN  7.89  7.94  7.85  7.94  7.96  7.92  8.04   7.99   \n",
       "1990-01-04   NaN   NaN  7.84  7.90  7.82  7.92  7.93  7.91  8.02   7.98   \n",
       "1990-01-05   NaN   NaN  7.79  7.85  7.79  7.90  7.94  7.92  8.03   7.99   \n",
       "1990-01-08   NaN   NaN  7.79  7.88  7.81  7.90  7.95  7.92  8.05   8.02   \n",
       "...          ...   ...   ...   ...   ...   ...   ...   ...   ...    ...   \n",
       "2022-01-31  0.03  0.13  0.22  0.49  0.78  1.18  1.39  1.62  1.75   1.79   \n",
       "2022-02-01  0.04  0.10  0.19  0.48  0.78  1.18  1.39  1.63  1.76   1.81   \n",
       "2022-02-02  0.04  0.10  0.19  0.45  0.76  1.16  1.38  1.60  1.74   1.78   \n",
       "2022-02-03  0.03  0.15  0.20  0.48  0.78  1.19  1.42  1.66  1.78   1.82   \n",
       "2022-02-04  0.05  0.12  0.23  0.56  0.89  1.31  1.55  1.78  1.90   1.93   \n",
       "\n",
       "            20 YR  30 YR  \n",
       "Date                      \n",
       "1990-01-02    NaN   8.00  \n",
       "1990-01-03    NaN   8.04  \n",
       "1990-01-04    NaN   8.04  \n",
       "1990-01-05    NaN   8.06  \n",
       "1990-01-08    NaN   8.09  \n",
       "...           ...    ...  \n",
       "2022-01-31   2.17   2.11  \n",
       "2022-02-01   2.19   2.12  \n",
       "2022-02-02   2.17   2.11  \n",
       "2022-02-03   2.20   2.14  \n",
       "2022-02-04   2.29   2.23  \n",
       "\n",
       "[8032 rows x 12 columns]"
      ]
     },
     "execution_count": 47,
     "metadata": {},
     "output_type": "execute_result"
    }
   ],
   "source": [
    "yield_"
   ]
  },
  {
   "cell_type": "code",
   "execution_count": 48,
   "id": "9ec901c9",
   "metadata": {},
   "outputs": [
    {
     "data": {
      "text/plain": [
       "<AxesSubplot:title={'center':'tresury yield curve,%'}>"
      ]
     },
     "execution_count": 48,
     "metadata": {},
     "output_type": "execute_result"
    },
    {
     "data": {
      "image/png": "[encoded data removed]",
      "text/plain": [
       "<Figure size 432x288 with 1 Axes>"
      ]
     },
     "metadata": {
      "needs_background": "light"
     },
     "output_type": "display_data"
    }
   ],
   "source": [
    "today = yield_.iloc[-1, :]\n",
    "month_ago = yield_.iloc[-30, :]\n",
    "df = pd.concat([today, month_ago], axis=1)\n",
    "df.columns=['today', 'month_ago']\n",
    "df.plot(style={'today':'ro-', 'month_ago':'bx-'}, title=\"tresury yield curve,%\")"
   ]
  },
  {
   "cell_type": "code",
   "execution_count": null,
   "id": "71ec09fa",
   "metadata": {},
   "outputs": [],
   "source": []
  }
 ],
 "metadata": {
  "kernelspec": {
   "display_name": "Python 3 (ipykernel)",
   "language": "python",
   "name": "python3"
  },
  "language_info": {
   "codemirror_mode": {
    "name": "ipython",
    "version": 3
   },
   "file_extension": ".py",
   "mimetype": "text/x-python",
   "name": "python",
   "nbconvert_exporter": "python",
   "pygments_lexer": "ipython3",
   "version": "3.10.0"
  }
 },
 "nbformat": 4,
 "nbformat_minor": 5
}
