{
 "cells": [
  {
   "cell_type": "markdown",
   "id": "b74d8f8a-258f-4304-a47c-21b05405d5ca",
   "metadata": {},
   "source": [
    "## Binomial Model"
   ]
  },
  {
   "cell_type": "code",
   "execution_count": 2,
   "id": "19b42d31-9608-4072-a9c3-59b91e6070a4",
   "metadata": {},
   "outputs": [],
   "source": [
    "# !pip install pandas-datareader"
   ]
  },
  {
   "cell_type": "code",
   "execution_count": 4,
   "id": "1c04d274-0f19-44c2-a1ec-368760cc9f3e",
   "metadata": {},
   "outputs": [],
   "source": [
    "import math\n",
    "from pandas_datareader import data, wb\n",
    "import numpy as np"
   ]
  },
  {
   "cell_type": "code",
   "execution_count": 6,
   "id": "b158cdf3-9428-4eb7-8d4e-fa3385f90511",
   "metadata": {},
   "outputs": [],
   "source": [
    "def nCr(n,r):\n",
    "    f = math.factorial\n",
    "    return (f(n)/f(r))/f(n-r)"
   ]
  },
  {
   "cell_type": "code",
   "execution_count": 18,
   "id": "b64275a4-c611-424c-8ff6-2689fb66811c",
   "metadata": {},
   "outputs": [],
   "source": [
    "class BinomialModel():\n",
    "    \"\"\"\n",
    "    This function find the option price under Binomail Model\n",
    "    \"\"\"\n",
    "    \n",
    "    def __init__(self, s0, u, d, strike, maturity, rfr, n, compd = \"s\", dyield = None):\n",
    "        \"\"\"\n",
    "        s0 : initial equity price {sigma},\n",
    "        u  : up factor,\n",
    "        d  : down factor,\n",
    "        rfr : risk free rate {annual}\n",
    "        n : number of steps\n",
    "        dyield : Dividend yield,\n",
    "        compd : compunding {'s' : simple, 'c': continues}\n",
    "        \"\"\"\n",
    "        self.s0 = s0\n",
    "        self.u=u\n",
    "        self.d=d\n",
    "        self.rfr = rfr\n",
    "        self.maturity = maturity\n",
    "        self.strike = strike\n",
    "        self.n = n\n",
    "        self.compd = compd\n",
    "        self.dyield = dyield\n",
    "        \n",
    "    def call_price(self):\n",
    "        delta = float(self.maturity)/float(self.n) # time steps or periods\n",
    "        if self.compd == \"c\":\n",
    "            if self.dyield == None:\n",
    "                q = (math.exp(self.rfr*delta)-self.d)/(self.u - self.d) # resik neutral probability\n",
    "            else:\n",
    "                q = (math.exp((self.rfr*delta-self.dyield)*delta)-self.d)/(self.u - self.d) # resik neutral probability\n",
    "        if self.compd == \"s\":\n",
    "            if self.dyield == None:\n",
    "                q = (1 + self.rfr*delta - self.d) / (self.u - self.d)\n",
    "            else:\n",
    "                q = (1+ (self.rfr - self.dyield)*delta - self.d) / (self.u - self.d)\n",
    "        prc = 0\n",
    "        temp_stock = 0\n",
    "        temp_payout = 0\n",
    "        for x in range(0, self.n+1):\n",
    "            temp_stock = self.s0*((self.u)**(x))*((self.d)**(self.n - x))\n",
    "            temp_payout = max(temp_stock - self.strike, 0)\n",
    "            prc += nCr(self.n, x)*(q**(x))*((1-q)**(self.n - x))*temp_payout\n",
    "        if self.compd == \"s\":\n",
    "            prc = prc / ((1+ self.rfr*delta )**self.n)\n",
    "        if self.compd == \"c\":\n",
    "            prc = prc / math.exp(self.rfr*delta)\n",
    "        return prc\n",
    "    \n",
    "    def put_price(self):\n",
    "        delta = float(self.maturity)/float(self.n) # time steps or periods\n",
    "        if self.compd == \"c\":\n",
    "            if self.dyield == None:\n",
    "                q = (math.exp(self.rfr*delta)-self.d)/(self.u - self.d) # resik neutral probability\n",
    "            else:\n",
    "                q = (math.exp((self.rfr*delta-self.dyield)*delta)-self.d)/(self.u - self.d) # resik neutral probability\n",
    "        if self.compd == \"s\":\n",
    "            if self.dyield == None:\n",
    "                q = (1 + self.rfr*delta - self.d) / (self.u - self.d)\n",
    "            else:\n",
    "                q = (1+ (self.rfr - self.dyield)*delta - self.d) / (self.u - self.d)\n",
    "        prc = 0\n",
    "        temp_stock = 0\n",
    "        temp_payout = 0\n",
    "        for x in range(0, self.n+1):\n",
    "            temp_stock = self.s0*((self.u)**(x))*((self.d)**(self.n - x))\n",
    "            temp_payout = max( self.strike - temp_stock, 0)\n",
    "            prc += nCr(self.n, x)*(q**(x))*((1-q)**(self.n - x))*temp_payout\n",
    "        if self.compd == \"s\":\n",
    "            prc = prc / ((1+ self.rfr*delta )**self.n)\n",
    "        if self.compd == \"c\":\n",
    "            prc = prc / math.exp(self.rfr*delta)\n",
    "        return prc\n",
    "    \n",
    "    def option_price(self, which=\"c\"):\n",
    "        delta = float(self.maturity)/float(self.n) # time steps or periods\n",
    "        if self.compd == \"c\":\n",
    "            if self.dyield == None:\n",
    "                q = (math.exp(self.rfr*delta)-self.d)/(self.u - self.d) # resik neutral probability\n",
    "            else:\n",
    "                q = (math.exp((self.rfr*delta-self.dyield)*delta)-self.d)/(self.u - self.d) # resik neutral probability\n",
    "        if self.compd == \"s\":\n",
    "            if self.dyield == None:\n",
    "                q = (1 + self.rfr*delta - self.d) / (self.u - self.d)\n",
    "            else:\n",
    "                q = (1+ (self.rfr - self.dyield)*delta - self.d) / (self.u - self.d)\n",
    "        prc = 0\n",
    "        temp_stock = 0\n",
    "        temp_payout = 0\n",
    "        for x in range(0, self.n+1):\n",
    "            temp_stock = self.s0*((self.u)**(x))*((self.d)**(self.n - x))\n",
    "            if which==\"c\":\n",
    "                temp_payout = max(temp_stock - self.strike, 0)\n",
    "            else:\n",
    "                temp_payout = max(self.strike -temp_stock, 0) \n",
    "            prc += nCr(self.n, x)*(q**(x))*((1-q)**(self.n - x))*temp_payout\n",
    "        if self.compd == \"s\":\n",
    "            prc = prc / ((1+ self.rfr*delta )**self.n)\n",
    "        if self.compd == \"c\":\n",
    "            prc = prc / math.exp(self.rfr*delta)\n",
    "        return prc"
   ]
  },
  {
   "cell_type": "code",
   "execution_count": 19,
   "id": "b1c71018-89bc-4c44-9a9c-825cbe45400c",
   "metadata": {},
   "outputs": [
    {
     "data": {
      "text/plain": [
       "5.3921568627450975"
      ]
     },
     "execution_count": 19,
     "metadata": {},
     "output_type": "execute_result"
    }
   ],
   "source": [
    "bm = BinomialModel(50, 1.2, 0.8, 50, 0.5, 0.04,1)\n",
    "bm.call_price()"
   ]
  },
  {
   "cell_type": "code",
   "execution_count": 21,
   "id": "250fa4f3-55c5-4665-afcd-b675bc6cc06f",
   "metadata": {},
   "outputs": [
    {
     "data": {
      "text/plain": [
       "4.411764705882353"
      ]
     },
     "execution_count": 21,
     "metadata": {},
     "output_type": "execute_result"
    }
   ],
   "source": [
    "bm.option_price(\"p\")"
   ]
  },
  {
   "cell_type": "code",
   "execution_count": null,
   "id": "55957c4f-d079-4c9c-a44f-73b98bee266b",
   "metadata": {},
   "outputs": [],
   "source": []
  }
 ],
 "metadata": {
  "kernelspec": {
   "display_name": "Python 3 (ipykernel)",
   "language": "python",
   "name": "python3"
  },
  "language_info": {
   "codemirror_mode": {
    "name": "ipython",
    "version": 3
   },
   "file_extension": ".py",
   "mimetype": "text/x-python",
   "name": "python",
   "nbconvert_exporter": "python",
   "pygments_lexer": "ipython3",
   "version": "3.10.0"
  }
 },
 "nbformat": 4,
 "nbformat_minor": 5
}
